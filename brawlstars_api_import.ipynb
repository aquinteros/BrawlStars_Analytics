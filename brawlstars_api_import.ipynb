{
 "cells": [
  {
   "cell_type": "code",
   "execution_count": 85,
   "metadata": {},
   "outputs": [],
   "source": [
    "# importar paquetes a ocupar\n",
    "import brawlstats\n",
    "import pandas as pd\n",
    "import datetime\n",
    "import ipywidgets as widgets\n",
    "# import zipfile\n",
    "# import os\n",
    "import api_key as key\n",
    "import fastparquet"
   ]
  },
  {
   "cell_type": "code",
   "execution_count": 86,
   "metadata": {},
   "outputs": [],
   "source": [
    "# crear cliente\n",
    "client = brawlstats.Client(key.api_key)"
   ]
  },
  {
   "cell_type": "code",
   "execution_count": 87,
   "metadata": {},
   "outputs": [],
   "source": [
    "# importar brawlers\n",
    "brawlers = pd.DataFrame()\n",
    "json_brawlers = client.get_brawlers().raw_data\n",
    "brawlers = pd.concat([brawlers, pd.json_normalize(json_brawlers)])"
   ]
  },
  {
   "cell_type": "code",
   "execution_count": 88,
   "metadata": {},
   "outputs": [],
   "source": [
    "brawlers = pd.merge(left=brawlers, right=pd.json_normalize(brawlers['starPowers']).add_prefix('starPowers.'), left_index=True, right_index=True)\n",
    "brawlers = pd.merge(left=brawlers, right=pd.json_normalize(brawlers['gadgets']).add_prefix('gadgets.'), left_index=True, right_index=True)\n",
    "brawlers = brawlers.drop('starPowers', axis=1)\n",
    "brawlers = brawlers.drop('gadgets', axis=1)"
   ]
  },
  {
   "cell_type": "code",
   "execution_count": 89,
   "metadata": {},
   "outputs": [
    {
     "name": "stdout",
     "output_type": "stream",
     "text": [
      "<class 'pandas.core.frame.DataFrame'>\n",
      "RangeIndex: 64 entries, 0 to 63\n",
      "Data columns (total 6 columns):\n",
      " #   Column        Non-Null Count  Dtype \n",
      "---  ------        --------------  ----- \n",
      " 0   id            64 non-null     int64 \n",
      " 1   name          64 non-null     object\n",
      " 2   starPowers.0  64 non-null     object\n",
      " 3   starPowers.1  64 non-null     object\n",
      " 4   gadgets.0     64 non-null     object\n",
      " 5   gadgets.1     64 non-null     object\n",
      "dtypes: int64(1), object(5)\n",
      "memory usage: 3.1+ KB\n",
      "None\n"
     ]
    }
   ],
   "source": [
    "# reset brawler index y export de dataset\n",
    "brawlers.to_parquet('datasets/brawlers/brawlers.parquet', index=False, engine='fastparquet', compression='gzip')\n",
    "\n",
    "print(brawlers.info())"
   ]
  },
  {
   "cell_type": "code",
   "execution_count": 90,
   "metadata": {},
   "outputs": [],
   "source": [
    "# import información adicional de brawlers\n",
    "brawlers_classification = pd.read_csv('datasets/brawlers/brawlers_classification.csv', index_col=0)"
   ]
  },
  {
   "cell_type": "code",
   "execution_count": 91,
   "metadata": {},
   "outputs": [
    {
     "name": "stdout",
     "output_type": "stream",
     "text": [
      "<class 'pandas.core.frame.DataFrame'>\n",
      "Int64Index: 64 entries, 0 to 63\n",
      "Data columns (total 17 columns):\n",
      " #   Column          Non-Null Count  Dtype  \n",
      "---  ------          --------------  -----  \n",
      " 0   id              64 non-null     int64  \n",
      " 1   name            64 non-null     object \n",
      " 2   starPowers.0    64 non-null     object \n",
      " 3   starPowers.1    64 non-null     object \n",
      " 4   gadgets.0       64 non-null     object \n",
      " 5   gadgets.1       64 non-null     object \n",
      " 6   Brawler         64 non-null     object \n",
      " 7   Health          64 non-null     float64\n",
      " 8   Rarity          64 non-null     object \n",
      " 9   Class           64 non-null     object \n",
      " 10  Movement_Speed  64 non-null     object \n",
      " 11  Range           63 non-null     object \n",
      " 12  Reload          63 non-null     object \n",
      " 13  Speed_Num       64 non-null     int64  \n",
      " 14  Range_Num       64 non-null     float64\n",
      " 15  Reload_Num      63 non-null     float64\n",
      " 16  Role            64 non-null     object \n",
      "dtypes: float64(3), int64(2), object(12)\n",
      "memory usage: 9.0+ KB\n",
      "None\n"
     ]
    }
   ],
   "source": [
    "# merge de ambos dataframes\n",
    "brawlerStats = pd.merge(brawlers, brawlers_classification, on='id')\n",
    "print(brawlerStats.info())"
   ]
  },
  {
   "cell_type": "code",
   "execution_count": 92,
   "metadata": {},
   "outputs": [
    {
     "name": "stdout",
     "output_type": "stream",
     "text": [
      "dimensiones brawlerStats: (64, 17)\n"
     ]
    }
   ],
   "source": [
    "# export dataframe final brawlers\n",
    "brawlerStats.to_parquet('datasets/brawlers/brawlers_stats.parquet', index=False, engine='fastparquet', compression='gzip')\n",
    "\n",
    "print('dimensiones brawlerStats: ' + str(brawlerStats.shape))"
   ]
  },
  {
   "cell_type": "code",
   "execution_count": 93,
   "metadata": {},
   "outputs": [
    {
     "data": {
      "text/plain": [
       "25"
      ]
     },
     "execution_count": 93,
     "metadata": {},
     "output_type": "execute_result"
    }
   ],
   "source": [
    "countryCode = ['US','MX','BR','GB','CA','DE','FR','ES','IT','RU','TR','AR','PL','CO','IN','ID','UA','AU','NL','JP','KR','CZ','CH','PH','MY']#,'VN','IE','TH','IL','NO','FI','PT','AT','GR','HU','SG','SA','AE','SE','DK','BZ','CR','GT','HN','NI','PA','SV','BO','CL','EC']\n",
    "len(countryCode)"
   ]
  },
  {
   "cell_type": "code",
   "execution_count": 94,
   "metadata": {},
   "outputs": [
    {
     "name": "stdout",
     "output_type": "stream",
     "text": [
      "cantidad top player tag: 5035\n"
     ]
    }
   ],
   "source": [
    "# sacar el player tag de los top 200 players\n",
    "topplayer_tag=[]\n",
    "\n",
    "# top global\n",
    "leaderboard = client.get_rankings(ranking='players')\n",
    "for i in leaderboard:\n",
    "    topplayer_tag.append(i.tag)\n",
    "\n",
    "# top por regiones en countryCode\n",
    "for i, item in enumerate(countryCode):\n",
    "   leaderboard = client.get_rankings(ranking='players',region=item)\n",
    "   for i in leaderboard:\n",
    "       topplayer_tag.append(i.tag)\n",
    "\n",
    "topplayer_tag = list(set(topplayer_tag))\n",
    "\n",
    "print('cantidad top player tag: ' + str(len(topplayer_tag)))"
   ]
  },
  {
   "cell_type": "code",
   "execution_count": 95,
   "metadata": {},
   "outputs": [
    {
     "data": {
      "application/vnd.jupyter.widget-view+json": {
       "model_id": "2a904aeb655e45ceb7fbc654484e4184",
       "version_major": 2,
       "version_minor": 0
      },
      "text/plain": [
       "IntProgress(value=0, description='cargando:', style=ProgressStyle(bar_color='maroon'))"
      ]
     },
     "metadata": {},
     "output_type": "display_data"
    },
    {
     "data": {
      "application/vnd.jupyter.widget-view+json": {
       "model_id": "7be89bbfb5d04c019d7040e51fd051a0",
       "version_major": 2,
       "version_minor": 0
      },
      "text/plain": [
       "BoundedFloatText(value=0.0, description='procesado:', max=5035.0)"
      ]
     },
     "metadata": {},
     "output_type": "display_data"
    },
    {
     "name": "stdout",
     "output_type": "stream",
     "text": [
      "No se pudo recuperar battlelog de tag #2JU2UQYJP\n",
      "No se pudo recuperar battlelog de tag #CUQJ8CL\n"
     ]
    }
   ],
   "source": [
    "# importar battelog de api\n",
    "progress = widgets.IntProgress(\n",
    "\tvalue=0, \n",
    "\tmin=0, \n",
    "\tmax=100, \n",
    "\tdescription='cargando:',\n",
    "\tstyle={'bar_color': 'maroon'}) \n",
    "\n",
    "processed = widgets.BoundedFloatText(\n",
    "    value=0,\n",
    "    min=0,\n",
    "    max=len(topplayer_tag),\n",
    "    description='procesado:',\n",
    "    disabled=False\n",
    ")\n",
    "\n",
    "display(progress)\n",
    "display(processed)\n",
    "\n",
    "data = {}\n",
    "\n",
    "for i in range(len(topplayer_tag)):\n",
    "    json_battlelog = {}\n",
    "    playertag = topplayer_tag[i]\n",
    "    try:\n",
    "        json_battlelog = client.get_battle_logs(playertag).raw_data\n",
    "    except:\n",
    "        print(\"No se pudo recuperar battlelog de tag \" + playertag)\n",
    "    \n",
    "    for k in range(len(json_battlelog)):\n",
    "        loaded_json = json_battlelog[k]\n",
    "        loaded_json['playertag'] = playertag\n",
    "        data[str(i) + '-' + str(k)] = loaded_json\n",
    "\n",
    "        progress.value = ((i+1) / len(topplayer_tag)) * 100\n",
    "        processed.value = i+1\n",
    "\n",
    "battlelog = pd.DataFrame.from_dict(data, orient='index').reset_index(drop=True)"
   ]
  },
  {
   "cell_type": "code",
   "execution_count": 96,
   "metadata": {},
   "outputs": [],
   "source": [
    "# creación del dataframe\n",
    "#battlelog = pd.DataFrame()\n",
    "\n",
    "#def split_json(s):\n",
    "#\t# separa un string por el item \"\n",
    "#\ts = str(s).split('\"')\n",
    "#\n",
    "#\treturn s\n",
    "\n",
    "#def clean_json(jsonitem):\n",
    "#\t# para una lista de artiuclos de json, separa en \" y limpia los elementos impares de la lista resultante \n",
    "#\tfor i in range(len(jsonitem)):\n",
    "#\t\tsplitted = split_json(jsonitem[i])\n",
    "#\t\tfor j in range(len(splitted)):\n",
    "#\t\t\tsplitted[j] = str(splitted[j]).replace('None','\"None\"').replace('False','\"False\"').replace('True','\"True\"')\n",
    "#\t\t\tif j % 2 == 1 and len(splitted[j]) < 20:\n",
    "#\t\t\t\tsplitted[j] = '\"' + str(splitted[j]).replace(\"'\",'`') + '\"'\n",
    "#\t\t\telse:\n",
    "#\t\t\t\tsplitted[j] = str(splitted[j]).replace(\"'\",'\"')\n",
    "#\t\tjsonitem[i] = ''.join(splitted)\n",
    "#\t\n",
    "#\treturn jsonitem\n",
    "\n",
    "#def cleanjson(val):\n",
    "#\tresult = str(val).replace('\"',\"`\").replace(': `', \": '\").replace('`,',\"',\").replace('`}',\"'}\").replace(\"e's\",'e`s').replace('\"ll','`ll').replace(\"I'm\", 'I`m').replace(\"i'm\", 'i`m').replace(\"' \",\"` \").replace(\"t's\",\"t`s\").replace('None',\"'None'\").replace(\"'\",'\"')\n",
    "#\treturn result\n",
    "\n",
    "# progress = widgets.IntProgress(\n",
    "# \tvalue=0, \n",
    "# \tmin=0, \n",
    "# \tmax=100, \n",
    "# \tdescription='cargando:',\n",
    "# \tstyle={'bar_color': 'maroon'}) \n",
    "\n",
    "# processed = widgets.BoundedFloatText(\n",
    "#     value=0,\n",
    "#     min=0,\n",
    "#     max=len(topplayer_tag),\n",
    "#     description='procesado:',\n",
    "#     disabled=False\n",
    "# )\n",
    "\n",
    "# display(progress)\n",
    "# display(processed)\n",
    "\n",
    "# for i in range(len(topplayer_tag)):\n",
    "\n",
    "# \tjson_battlelog = {}\n",
    "# \tplayertag = topplayer_tag[i]\n",
    "# \ttry:\n",
    "# \t\tjson_battlelog = client.get_battle_logs(playertag).raw_data\n",
    "# \texcept:\n",
    "# \t\tprint(\"No se pudo recuperar battlelog de tag \" + playertag)\n",
    "\n",
    "# \tfor k in range(len(json_battlelog)):\n",
    "# \t\tloaded_json = json_battlelog[k]\n",
    "# \t\tjson_battlelog[k]['playertag'] = playertag\n",
    "# \t\ttry:\n",
    "# \t\t\tbattlelog = battlelog.append(pd.json_normalize(loaded_json), ignore_index=True)\n",
    "# \t\texcept:\n",
    "# \t\t\tprint(\"no se pudo importar \" + playertag + \" battlelog numero \" + str(k))\n",
    "\n",
    "# \tprogress.value = ((i+1) / len(topplayer_tag)) * 100\n",
    "# \tprocessed.value = i\n"
   ]
  },
  {
   "cell_type": "code",
   "execution_count": 97,
   "metadata": {},
   "outputs": [],
   "source": [
    "# desglose de dataframe\n",
    "battlelog = pd.merge(left=battlelog, right=pd.json_normalize(battlelog['event']).add_prefix('event.'), left_index=True, right_index=True)\n",
    "battlelog = pd.merge(left=battlelog, right=pd.json_normalize(battlelog['battle']).add_prefix('battle.'), left_index=True, right_index=True)"
   ]
  },
  {
   "cell_type": "code",
   "execution_count": 98,
   "metadata": {},
   "outputs": [
    {
     "name": "stdout",
     "output_type": "stream",
     "text": [
      "dimensiones battlelog: (119827, 28)\n"
     ]
    }
   ],
   "source": [
    "# reset battlelog index\n",
    "battlelog = battlelog.drop('event', axis=1)\n",
    "battlelog = battlelog.drop('battle', axis=1)\n",
    "print('dimensiones battlelog: ' + str(battlelog.shape))"
   ]
  },
  {
   "cell_type": "code",
   "execution_count": 99,
   "metadata": {},
   "outputs": [
    {
     "name": "stdout",
     "output_type": "stream",
     "text": [
      "<class 'pandas.core.frame.DataFrame'>\n",
      "RangeIndex: 119827 entries, 0 to 119826\n",
      "Data columns (total 28 columns):\n",
      " #   Column                              Non-Null Count   Dtype  \n",
      "---  ------                              --------------   -----  \n",
      " 0   battleTime                          119827 non-null  object \n",
      " 1   playertag                           119827 non-null  object \n",
      " 2   event.id                            119827 non-null  int64  \n",
      " 3   event.mode                          106104 non-null  object \n",
      " 4   event.map                           106104 non-null  object \n",
      " 5   battle.mode                         119827 non-null  object \n",
      " 6   battle.type                         119399 non-null  object \n",
      " 7   battle.result                       95003 non-null   object \n",
      " 8   battle.duration                     94651 non-null   float64\n",
      " 9   battle.trophyChange                 82365 non-null   float64\n",
      " 10  battle.teams                        105939 non-null  object \n",
      " 11  battle.starPlayer.tag               83103 non-null   object \n",
      " 12  battle.starPlayer.name              83103 non-null   object \n",
      " 13  battle.starPlayer.brawler.id        83103 non-null   float64\n",
      " 14  battle.starPlayer.brawler.name      83103 non-null   object \n",
      " 15  battle.starPlayer.brawler.power     83103 non-null   float64\n",
      " 16  battle.starPlayer.brawler.trophies  83103 non-null   float64\n",
      " 17  battle.rank                         24759 non-null   float64\n",
      " 18  battle.starPlayer                   0 non-null       float64\n",
      " 19  battle.players                      13888 non-null   object \n",
      " 20  battle.level.name                   363 non-null     object \n",
      " 21  battle.level.id                     363 non-null     float64\n",
      " 22  battle.bigBrawler.tag               26 non-null      object \n",
      " 23  battle.bigBrawler.name              26 non-null      object \n",
      " 24  battle.bigBrawler.brawler.id        26 non-null      float64\n",
      " 25  battle.bigBrawler.brawler.name      26 non-null      object \n",
      " 26  battle.bigBrawler.brawler.power     26 non-null      float64\n",
      " 27  battle.bigBrawler.brawler.trophies  26 non-null      float64\n",
      "dtypes: float64(11), int64(1), object(16)\n",
      "memory usage: 25.6+ MB\n"
     ]
    }
   ],
   "source": [
    "battlelog.info()"
   ]
  },
  {
   "cell_type": "code",
   "execution_count": 100,
   "metadata": {},
   "outputs": [
    {
     "data": {
      "text/plain": [
       "ranked                   78011\n",
       "championshipChallenge    17063\n",
       "teamRanked               10390\n",
       "soloRanked                8037\n",
       "friendly                  4710\n",
       "challenge                  993\n",
       "tournament                 195\n",
       "Name: battle.type, dtype: int64"
      ]
     },
     "execution_count": 100,
     "metadata": {},
     "output_type": "execute_result"
    }
   ],
   "source": [
    "# cuenta tipos de juego\n",
    "battlelog['battle.type'].value_counts()"
   ]
  },
  {
   "cell_type": "code",
   "execution_count": 101,
   "metadata": {},
   "outputs": [],
   "source": [
    "# eliminar friendly\n",
    "battlelog = battlelog.loc[battlelog['battle.type'] != \"friendly\"]"
   ]
  },
  {
   "cell_type": "code",
   "execution_count": 102,
   "metadata": {},
   "outputs": [
    {
     "data": {
      "text/plain": [
       "brawlBall       28942\n",
       "gemGrab         16287\n",
       "knockout        14504\n",
       "heist           13406\n",
       "soloShowdown    12458\n",
       "duoShowdown     11217\n",
       "hotZone          9080\n",
       "bounty           8795\n",
       "bossFight         363\n",
       "roboRumble         39\n",
       "bigGame            26\n",
       "Name: battle.mode, dtype: int64"
      ]
     },
     "execution_count": 102,
     "metadata": {},
     "output_type": "execute_result"
    }
   ],
   "source": [
    "# cuenta modos de juego\n",
    "battlelog['battle.mode'].value_counts() "
   ]
  },
  {
   "cell_type": "code",
   "execution_count": 103,
   "metadata": {},
   "outputs": [],
   "source": [
    "# eliminar modos alt y modos showdown\n",
    "modos_alt = ['bossFight','roboRumble','bigGame','soloShowdown','duoShowdown']\n",
    "battlelog = battlelog.loc[~battlelog['battle.mode'].isin(modos_alt)]"
   ]
  },
  {
   "cell_type": "code",
   "execution_count": 104,
   "metadata": {},
   "outputs": [],
   "source": [
    "# eliminar event vacio\n",
    "battlelog['event.mode'] = battlelog['event.mode'].fillna('unknown')\n",
    "battlelog = battlelog.loc[battlelog['event.mode'] != \"unknown\"]"
   ]
  },
  {
   "cell_type": "code",
   "execution_count": 105,
   "metadata": {},
   "outputs": [],
   "source": [
    "# eliminar map vacio\n",
    "battlelog['event.map'] = battlelog['event.map'].fillna('unknown')\n",
    "battlelog = battlelog.loc[battlelog['event.map'] != \"unknown\"]"
   ]
  },
  {
   "cell_type": "code",
   "execution_count": 106,
   "metadata": {},
   "outputs": [
    {
     "name": "stdout",
     "output_type": "stream",
     "text": [
      "dimensiones battlelog: (79156, 28)\n"
     ]
    }
   ],
   "source": [
    "# reset battlelog index\n",
    "battlelog.reset_index(drop=True, inplace=True)\n",
    "\n",
    "print('dimensiones battlelog: ' + str(battlelog.shape))"
   ]
  },
  {
   "cell_type": "code",
   "execution_count": 107,
   "metadata": {},
   "outputs": [],
   "source": [
    "# crear listado de players en battelog\n",
    "\n",
    "#playerlist = pd.DataFrame(pd.concat([\n",
    "#\tbattlelog['playertag'], \n",
    "#\tbattlelog['battle.starPlayer.tag'], \n",
    "#\tbattlelog['battle.team1.player1.tag'], \n",
    "#\tbattlelog['battle.team1.player2.tag'], \n",
    "#\tbattlelog['battle.team1.player3.tag'], \n",
    "#\tbattlelog['battle.team2.player1.tag'], \n",
    "#\tbattlelog['battle.team2.player2.tag'], \n",
    "#\tbattlelog['battle.team2.player3.tag']\n",
    "#\t], ignore_index=True).drop_duplicates().reset_index(drop=True))\n",
    "#\n",
    "#playerlist.shape"
   ]
  },
  {
   "cell_type": "code",
   "execution_count": 108,
   "metadata": {},
   "outputs": [],
   "source": [
    "# crear listado nuevos playersplayers_hist\n",
    "#playerlist_merge = pd.merge(playerlist, players_hist['tag'], left_on=0, right_on='tag', how='left').drop_duplicates().reset_index(drop=True)\n",
    "#\n",
    "#playerlist_final = playerlist_merge[0][playerlist_merge['tag'].isna()].drop_duplicates().reset_index(drop=True)\n",
    "#\n",
    "#playerlist_final.shape"
   ]
  },
  {
   "cell_type": "code",
   "execution_count": 109,
   "metadata": {},
   "outputs": [],
   "source": [
    "# agregar datos de player\n",
    "#players = pd.DataFrame()\n",
    "#\n",
    "#for i in range(len(playerlist_final)):\n",
    "#\n",
    "#\tjson_player = []\n",
    "#\tplayertag = playerlist_final.loc[i]\n",
    "#\ttry:\n",
    "#\t\tjson_player = client.get_profile(playerlist_final.loc[i]).raw_data\n",
    "#\t\tdel json_player['brawlers']\n",
    "#\texcept:\n",
    "#\t\tprint(\"No se pudo recuperar player de tag \" + str(playertag))\n",
    "#\n",
    "#\ttry:\n",
    "#\t\tplayers = pd.concat([players, pd.json_normalize(json_player)])\n",
    "#\texcept:\n",
    "#\t\tprint(\"no se pudo importar player tag \" + str(playertag))\n",
    "\n",
    "# progress = widgets.IntProgress(\n",
    "# \tvalue=0, \n",
    "# \tmin=0, \n",
    "# \tmax=100, \n",
    "# \tdescription='cargando:',\n",
    "# \tstyle={'bar_color': 'maroon'}) \n",
    "\n",
    "# processed = widgets.BoundedFloatText(\n",
    "#     value=0,\n",
    "#     min=0,\n",
    "#     max=len(topplayer_tag),\n",
    "#     description='procesado:',\n",
    "#     disabled=False\n",
    "# )\n",
    "\n",
    "# display(progress)\n",
    "# display(processed)\n",
    "\n",
    "# timestamp = datetime.datetime.now().strftime(\"%Y%m%d%H%M%S\")\n",
    "\n",
    "# player = {}\n",
    "# json_player = []\n",
    "\n",
    "# for i, playertag in enumerate(topplayer_tag):\n",
    "#     try:\n",
    "#         json_player = client.get_profile(playertag).raw_data\n",
    "#         del json_player['brawlers']\n",
    "#         json_player['import_date'] = timestamp\n",
    "#         player[str(i)] = json_player\n",
    "#     except:\n",
    "#         print(\"No se pudo recuperar profile de tag \" + str(playertag))\n",
    "\n",
    "#     progress.value = ((i+1) / len(topplayer_tag)) * 100\n",
    "#     processed.value = i+1\n",
    "\n",
    "# players = pd.DataFrame.from_dict(player, orient='index').reset_index(drop=True)"
   ]
  },
  {
   "cell_type": "code",
   "execution_count": 110,
   "metadata": {},
   "outputs": [],
   "source": [
    "# players_hist = pd.read_csv('datasets/players/players.csv', index_col=0)\n",
    "# players_hist.shape"
   ]
  },
  {
   "cell_type": "code",
   "execution_count": 111,
   "metadata": {},
   "outputs": [],
   "source": [
    "# concatenar las bases\n",
    "# players = pd.concat([players, players_hist], ignore_index=True).drop_duplicates(['tag']).reset_index(drop=True)\n",
    "\n",
    "# print('dimensiones players: ' + str(players.shape))"
   ]
  },
  {
   "cell_type": "code",
   "execution_count": 112,
   "metadata": {},
   "outputs": [],
   "source": [
    "# players.to_csv('datasets/players/players.csv')"
   ]
  },
  {
   "cell_type": "code",
   "execution_count": 113,
   "metadata": {},
   "outputs": [
    {
     "name": "stdout",
     "output_type": "stream",
     "text": [
      "<class 'pandas.core.frame.DataFrame'>\n",
      "RangeIndex: 79156 entries, 0 to 79155\n",
      "Data columns (total 64 columns):\n",
      " #   Column                                 Non-Null Count  Dtype  \n",
      "---  ------                                 --------------  -----  \n",
      " 0   battleTime                             79156 non-null  object \n",
      " 1   playertag                              79156 non-null  object \n",
      " 2   event.id                               79156 non-null  int64  \n",
      " 3   event.mode                             79156 non-null  object \n",
      " 4   event.map                              79156 non-null  object \n",
      " 5   battle.mode                            79156 non-null  object \n",
      " 6   battle.type                            79156 non-null  object \n",
      " 7   battle.result                          79156 non-null  object \n",
      " 8   battle.duration                        79156 non-null  float64\n",
      " 9   battle.trophyChange                    60504 non-null  float64\n",
      " 10  battle.teams                           79156 non-null  object \n",
      " 11  battle.starPlayer.tag                  68732 non-null  object \n",
      " 12  battle.starPlayer.name                 68732 non-null  object \n",
      " 13  battle.starPlayer.brawler.id           68732 non-null  float64\n",
      " 14  battle.starPlayer.brawler.name         68732 non-null  object \n",
      " 15  battle.starPlayer.brawler.power        68732 non-null  float64\n",
      " 16  battle.starPlayer.brawler.trophies     68732 non-null  float64\n",
      " 17  battle.rank                            0 non-null      float64\n",
      " 18  battle.starPlayer                      0 non-null      float64\n",
      " 19  battle.players                         0 non-null      object \n",
      " 20  battle.level.name                      0 non-null      object \n",
      " 21  battle.level.id                        0 non-null      float64\n",
      " 22  battle.bigBrawler.tag                  0 non-null      object \n",
      " 23  battle.bigBrawler.name                 0 non-null      object \n",
      " 24  battle.bigBrawler.brawler.id           0 non-null      float64\n",
      " 25  battle.bigBrawler.brawler.name         0 non-null      object \n",
      " 26  battle.bigBrawler.brawler.power        0 non-null      float64\n",
      " 27  battle.bigBrawler.brawler.trophies     0 non-null      float64\n",
      " 28  battle.team1.player1.tag               79156 non-null  object \n",
      " 29  battle.team1.player1.name              79156 non-null  object \n",
      " 30  battle.team1.player1.brawler.id        79156 non-null  float64\n",
      " 31  battle.team1.player1.brawler.name      79156 non-null  object \n",
      " 32  battle.team1.player1.brawler.power     79156 non-null  float64\n",
      " 33  battle.team1.player1.brawler.trophies  79156 non-null  float64\n",
      " 34  battle.team1.player2.tag               79156 non-null  object \n",
      " 35  battle.team1.player2.name              79156 non-null  object \n",
      " 36  battle.team1.player2.brawler.id        79156 non-null  float64\n",
      " 37  battle.team1.player2.brawler.name      79156 non-null  object \n",
      " 38  battle.team1.player2.brawler.power     79156 non-null  float64\n",
      " 39  battle.team1.player2.brawler.trophies  79156 non-null  float64\n",
      " 40  battle.team1.player3.tag               79156 non-null  object \n",
      " 41  battle.team1.player3.name              79156 non-null  object \n",
      " 42  battle.team1.player3.brawler.id        79156 non-null  float64\n",
      " 43  battle.team1.player3.brawler.name      79156 non-null  object \n",
      " 44  battle.team1.player3.brawler.power     79156 non-null  float64\n",
      " 45  battle.team1.player3.brawler.trophies  79156 non-null  float64\n",
      " 46  battle.team2.player1.tag               79156 non-null  object \n",
      " 47  battle.team2.player1.name              79156 non-null  object \n",
      " 48  battle.team2.player1.brawler.id        79156 non-null  float64\n",
      " 49  battle.team2.player1.brawler.name      79156 non-null  object \n",
      " 50  battle.team2.player1.brawler.power     79156 non-null  float64\n",
      " 51  battle.team2.player1.brawler.trophies  79156 non-null  float64\n",
      " 52  battle.team2.player2.tag               79156 non-null  object \n",
      " 53  battle.team2.player2.name              79156 non-null  object \n",
      " 54  battle.team2.player2.brawler.id        79156 non-null  float64\n",
      " 55  battle.team2.player2.brawler.name      79156 non-null  object \n",
      " 56  battle.team2.player2.brawler.power     79156 non-null  float64\n",
      " 57  battle.team2.player2.brawler.trophies  79156 non-null  float64\n",
      " 58  battle.team2.player3.tag               79156 non-null  object \n",
      " 59  battle.team2.player3.name              79156 non-null  object \n",
      " 60  battle.team2.player3.brawler.id        79156 non-null  float64\n",
      " 61  battle.team2.player3.brawler.name      79156 non-null  object \n",
      " 62  battle.team2.player3.brawler.power     79156 non-null  float64\n",
      " 63  battle.team2.player3.brawler.trophies  79156 non-null  float64\n",
      "dtypes: float64(29), int64(1), object(34)\n",
      "memory usage: 38.7+ MB\n"
     ]
    }
   ],
   "source": [
    "# descomponer la columna teams\n",
    "\n",
    "# def battle_delimiter(i, j):\n",
    "# \tresult = pd.json_normalize(pd.json_normalize(pd.json_normalize(pd.json_normalize(rawdata['battle'])['teams'])[i])[j])\n",
    "# \treturn result\n",
    "\n",
    "def normalize_to_df(i, t, p):\n",
    "\tbattlelog.loc[i,'battle.team' + str(t) + '.player' + str(p) + '.tag'] = normalized[t - 1][p - 1]['tag']\n",
    "\tbattlelog.loc[i,'battle.team' + str(t) + '.player' + str(p) + '.name'] = normalized[t - 1][p - 1]['name']\n",
    "\tbattlelog.loc[i,'battle.team' + str(t) + '.player' + str(p) + '.brawler.id'] = normalized[t - 1][p - 1]['brawler.id']\n",
    "\tbattlelog.loc[i,'battle.team' + str(t) + '.player' + str(p) + '.brawler.name'] = normalized[t - 1][p - 1]['brawler.name']\n",
    "\tbattlelog.loc[i,'battle.team' + str(t) + '.player' + str(p) + '.brawler.power'] = normalized[t - 1][p - 1]['brawler.power']\n",
    "\tbattlelog.loc[i,'battle.team' + str(t) + '.player' + str(p) + '.brawler.trophies'] = normalized[t - 1][p - 1]['brawler.trophies']\n",
    "\n",
    "normalized = pd.DataFrame()\n",
    "\n",
    "for i, team in enumerate(battlelog['battle.teams']):\n",
    "\tif team != None:\n",
    "\t\ttry:\n",
    "\t\t\tnormalized = pd.json_normalize(team, errors='ignore').transpose()\n",
    "\t\t\tnormalize_to_df(i, 1, 1)\n",
    "\t\t\tnormalize_to_df(i, 1, 2)\n",
    "\t\t\tnormalize_to_df(i, 1, 3)\n",
    "\t\t\tnormalize_to_df(i, 2, 1)\n",
    "\t\t\tnormalize_to_df(i, 2, 2)\n",
    "\t\t\tnormalize_to_df(i, 2, 3)\n",
    "\t\texcept:\n",
    "\t\t\tprint(\"no se pudo transponer\")\n",
    "\n",
    "battlelog.info()"
   ]
  },
  {
   "cell_type": "code",
   "execution_count": 114,
   "metadata": {},
   "outputs": [
    {
     "name": "stderr",
     "output_type": "stream",
     "text": [
      "C:\\Users\\alniquia\\AppData\\Local\\Temp\\ipykernel_17684\\3410445802.py:2: FutureWarning: The default value of regex will change from True to False in a future version. In addition, single character regular expressions will *not* be treated as literal strings when regex=True.\n",
      "  battlelog.columns = battlelog.columns.str.replace('.', '_')\n"
     ]
    }
   ],
   "source": [
    "# fix column names\n",
    "battlelog.columns = battlelog.columns.str.replace('.', '_')"
   ]
  },
  {
   "cell_type": "code",
   "execution_count": 115,
   "metadata": {},
   "outputs": [],
   "source": [
    "# select columns\n",
    "battlelog = battlelog[[\n",
    "'battleTime'\n",
    ",'playertag'\n",
    ",'event_mode'\n",
    ",'event_map'\n",
    ",'battle_type'\n",
    ",'battle_result'\n",
    ",'battle_duration'\n",
    ",'battle_trophyChange'\n",
    ",'battle_team1_player1_tag'\n",
    ",'battle_team1_player1_name'\n",
    ",'battle_team1_player1_brawler_id'\n",
    ",'battle_team1_player1_brawler_name'\n",
    ",'battle_team1_player1_brawler_power'\n",
    ",'battle_team1_player1_brawler_trophies'\n",
    ",'battle_team1_player2_tag'\n",
    ",'battle_team1_player2_name'\n",
    ",'battle_team1_player2_brawler_id'\n",
    ",'battle_team1_player2_brawler_name'\n",
    ",'battle_team1_player2_brawler_power'\n",
    ",'battle_team1_player2_brawler_trophies'\n",
    ",'battle_team1_player3_tag'\n",
    ",'battle_team1_player3_name'\n",
    ",'battle_team1_player3_brawler_id'\n",
    ",'battle_team1_player3_brawler_name'\n",
    ",'battle_team1_player3_brawler_power'\n",
    ",'battle_team1_player3_brawler_trophies'\n",
    ",'battle_team2_player1_tag'\n",
    ",'battle_team2_player1_name'\n",
    ",'battle_team2_player1_brawler_id'\n",
    ",'battle_team2_player1_brawler_name'\n",
    ",'battle_team2_player1_brawler_power'\n",
    ",'battle_team2_player1_brawler_trophies'\n",
    ",'battle_team2_player2_tag'\n",
    ",'battle_team2_player2_name'\n",
    ",'battle_team2_player2_brawler_id'\n",
    ",'battle_team2_player2_brawler_name'\n",
    ",'battle_team2_player2_brawler_power'\n",
    ",'battle_team2_player2_brawler_trophies'\n",
    ",'battle_team2_player3_tag'\n",
    ",'battle_team2_player3_name'\n",
    ",'battle_team2_player3_brawler_id'\n",
    ",'battle_team2_player3_brawler_name'\n",
    ",'battle_team2_player3_brawler_power'\n",
    ",'battle_team2_player3_brawler_trophies'\n",
    "]]"
   ]
  },
  {
   "cell_type": "code",
   "execution_count": 116,
   "metadata": {},
   "outputs": [
    {
     "name": "stdout",
     "output_type": "stream",
     "text": [
      "dimensiones battlelog hist: (589695, 44)\n"
     ]
    }
   ],
   "source": [
    "# traer archivo histórico battlelog\n",
    "# with zipfile.ZipFile('datasets/teams/battlelog_teams.zip', 'r') as zip_ref:\n",
    "    # zip_ref.extractall('datasets/teams/')\n",
    "    \n",
    "battlelog_hist = pd.read_parquet('datasets/teams/battlelog_teams.parquet')\n",
    "\n",
    "print('dimensiones battlelog hist: ' + str(battlelog_hist.shape))"
   ]
  },
  {
   "cell_type": "code",
   "execution_count": 117,
   "metadata": {},
   "outputs": [
    {
     "name": "stdout",
     "output_type": "stream",
     "text": [
      "dimensiones battlelog concat: (668851, 44)\n"
     ]
    }
   ],
   "source": [
    "# agregar nuevos reg a histórico\n",
    "battlelog = pd.concat([battlelog, battlelog_hist])\n",
    "print('dimensiones battlelog concat: ' + str(battlelog.shape))"
   ]
  },
  {
   "cell_type": "code",
   "execution_count": 118,
   "metadata": {},
   "outputs": [
    {
     "name": "stdout",
     "output_type": "stream",
     "text": [
      "dimensiones battlelog final: (605765, 44)\n"
     ]
    }
   ],
   "source": [
    "# eliminar battelogs duplicados\n",
    "battlelog = battlelog.drop_duplicates(['battleTime', 'event_mode', 'event_map', 'battle_type', 'battle_duration', 'battle_team1_player1_tag'], ignore_index=True)\n",
    "\n",
    "print('dimensiones battlelog final: ' + str(battlelog.shape))"
   ]
  },
  {
   "cell_type": "code",
   "execution_count": 119,
   "metadata": {},
   "outputs": [],
   "source": [
    "# export dataset teams completo mas histórico\n",
    "battlelog.to_parquet('datasets/teams/battlelog_teams.parquet', index=False, engine='fastparquet', compression='gzip')\n",
    "\n",
    "# Comprimir el archivo parquet\n",
    "# with zipfile.ZipFile('datasets/teams/battlelog_teams.zip', 'w') as zip_file:\n",
    "#     zip_file.write('datasets/teams/battlelog_teams.parquet', arcname='battlelog_teams.parquet',compress_type=zipfile.ZIP_BZIP2)\n",
    "\n",
    "# os.remove('datasets/teams/battlelog_teams.parquet')"
   ]
  },
  {
   "cell_type": "code",
   "execution_count": 120,
   "metadata": {},
   "outputs": [],
   "source": [
    "maplist = battlelog[['event_mode','event_map']].drop_duplicates()\n",
    "\n",
    "maplist.to_parquet('datasets/maps/maplist.parquet', index=False)"
   ]
  }
 ],
 "metadata": {
  "kernelspec": {
   "display_name": "Python 3",
   "language": "python",
   "name": "python3"
  },
  "language_info": {
   "codemirror_mode": {
    "name": "ipython",
    "version": 3
   },
   "file_extension": ".py",
   "mimetype": "text/x-python",
   "name": "python",
   "nbconvert_exporter": "python",
   "pygments_lexer": "ipython3",
   "version": "3.11.0"
  },
  "orig_nbformat": 4,
  "vscode": {
   "interpreter": {
    "hash": "4b0513afd20a5cc577fca9da950d42d1e3c742e55e08a19f57b01f1278df70cd"
   }
  }
 },
 "nbformat": 4,
 "nbformat_minor": 2
}
