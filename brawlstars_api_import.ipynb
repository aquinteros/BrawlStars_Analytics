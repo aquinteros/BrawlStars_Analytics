{
 "cells": [
  {
   "cell_type": "code",
   "execution_count": 1,
   "metadata": {},
   "outputs": [],
   "source": [
    "# importar paquetes a ocupar\n",
    "import brawlstats\n",
    "import pandas as pd\n",
    "import datetime\n",
    "import ipywidgets as widgets\n",
    "import zipfile\n",
    "import os\n",
    "import api_key"
   ]
  },
  {
   "cell_type": "code",
   "execution_count": 2,
   "metadata": {},
   "outputs": [],
   "source": [
    "# crear cliente\n",
    "client = brawlstats.Client(api_key.api_key)"
   ]
  },
  {
   "cell_type": "code",
   "execution_count": 3,
   "metadata": {},
   "outputs": [],
   "source": [
    "# importar brawlers\n",
    "brawlers = pd.DataFrame()\n",
    "\n",
    "json_brawlers = client.get_brawlers().raw_data\n",
    "\n",
    "brawlers = pd.concat([brawlers, pd.json_normalize(json_brawlers)])"
   ]
  },
  {
   "cell_type": "code",
   "execution_count": 4,
   "metadata": {},
   "outputs": [
    {
     "name": "stdout",
     "output_type": "stream",
     "text": [
      "<class 'pandas.core.frame.DataFrame'>\n",
      "RangeIndex: 64 entries, 0 to 63\n",
      "Data columns (total 4 columns):\n",
      " #   Column      Non-Null Count  Dtype \n",
      "---  ------      --------------  ----- \n",
      " 0   id          64 non-null     int64 \n",
      " 1   name        64 non-null     object\n",
      " 2   starPowers  64 non-null     object\n",
      " 3   gadgets     64 non-null     object\n",
      "dtypes: int64(1), object(3)\n",
      "memory usage: 2.1+ KB\n",
      "None\n"
     ]
    }
   ],
   "source": [
    "# reset brawler index y export de dataset\n",
    "brawlers.reset_index(drop=True, inplace=True)\n",
    "\n",
    "brawlers.to_csv('datasets/brawlers/brawlers.csv')\n",
    "\n",
    "print(brawlers.info())"
   ]
  },
  {
   "cell_type": "code",
   "execution_count": 5,
   "metadata": {},
   "outputs": [],
   "source": [
    "# import información adicional de brawlers\n",
    "brawlers_classification = pd.read_csv('datasets/brawlers/brawlers_classification.csv', index_col=0)"
   ]
  },
  {
   "cell_type": "code",
   "execution_count": 6,
   "metadata": {},
   "outputs": [
    {
     "name": "stdout",
     "output_type": "stream",
     "text": [
      "<class 'pandas.core.frame.DataFrame'>\n",
      "Int64Index: 64 entries, 0 to 63\n",
      "Data columns (total 15 columns):\n",
      " #   Column          Non-Null Count  Dtype  \n",
      "---  ------          --------------  -----  \n",
      " 0   id              64 non-null     int64  \n",
      " 1   name            64 non-null     object \n",
      " 2   starPowers      64 non-null     object \n",
      " 3   gadgets         64 non-null     object \n",
      " 4   Brawler         64 non-null     object \n",
      " 5   Health          64 non-null     float64\n",
      " 6   Rarity          64 non-null     object \n",
      " 7   Class           64 non-null     object \n",
      " 8   Movement_Speed  64 non-null     object \n",
      " 9   Range           63 non-null     object \n",
      " 10  Reload          63 non-null     object \n",
      " 11  Speed_Num       64 non-null     int64  \n",
      " 12  Range_Num       64 non-null     float64\n",
      " 13  Reload_Num      63 non-null     float64\n",
      " 14  Role            64 non-null     object \n",
      "dtypes: float64(3), int64(2), object(10)\n",
      "memory usage: 8.0+ KB\n",
      "None\n"
     ]
    }
   ],
   "source": [
    "# merge de ambos dataframes\n",
    "brawlerStats = pd.merge(brawlers, brawlers_classification, on='id')\n",
    "print(brawlerStats.info())"
   ]
  },
  {
   "cell_type": "code",
   "execution_count": 7,
   "metadata": {},
   "outputs": [
    {
     "name": "stdout",
     "output_type": "stream",
     "text": [
      "dimensiones brawlerStats: (64, 15)\n"
     ]
    }
   ],
   "source": [
    "# export dataframe final brawlers\n",
    "brawlerStats.to_csv('datasets/brawlers/brawlers_stats.csv')\n",
    "\n",
    "print('dimensiones brawlerStats: ' + str(brawlerStats.shape))"
   ]
  },
  {
   "cell_type": "code",
   "execution_count": 8,
   "metadata": {},
   "outputs": [
    {
     "data": {
      "text/plain": [
       "25"
      ]
     },
     "execution_count": 8,
     "metadata": {},
     "output_type": "execute_result"
    }
   ],
   "source": [
    "countryCode = ['US','MX','BR','GB','CA','DE','FR','ES','IT','RU','TR','AR','PL','CO','IN','ID','UA','AU','NL','JP','KR','CZ','CH','PH','MY']#,'VN','IE','TH','IL','NO','FI','PT','AT','GR','HU','SG','SA','AE','SE','DK','BZ','CR','GT','HN','NI','PA','SV','BO','CL','EC']\n",
    "len(countryCode)"
   ]
  },
  {
   "cell_type": "code",
   "execution_count": 9,
   "metadata": {},
   "outputs": [
    {
     "name": "stdout",
     "output_type": "stream",
     "text": [
      "cantidad top player tag: 5035\n"
     ]
    }
   ],
   "source": [
    "# sacar el player tag de los top 200 players\n",
    "topplayer_tag=[]\n",
    "\n",
    "# top global\n",
    "leaderboard = client.get_rankings(ranking='players')\n",
    "for i in leaderboard:\n",
    "    topplayer_tag.append(i.tag)\n",
    "\n",
    "# top por regiones en countryCode\n",
    "for i, item in enumerate(countryCode):\n",
    "   leaderboard = client.get_rankings(ranking='players',region=item)\n",
    "   for i in leaderboard:\n",
    "       topplayer_tag.append(i.tag)\n",
    "\n",
    "topplayer_tag = list(set(topplayer_tag))\n",
    "\n",
    "print('cantidad top player tag: ' + str(len(topplayer_tag)))"
   ]
  },
  {
   "cell_type": "code",
   "execution_count": 10,
   "metadata": {},
   "outputs": [
    {
     "data": {
      "application/vnd.jupyter.widget-view+json": {
       "model_id": "b0b90014bc9a4a68aa0f7c9b112686ca",
       "version_major": 2,
       "version_minor": 0
      },
      "text/plain": [
       "IntProgress(value=0, description='cargando:', style=ProgressStyle(bar_color='maroon'))"
      ]
     },
     "metadata": {},
     "output_type": "display_data"
    },
    {
     "data": {
      "application/vnd.jupyter.widget-view+json": {
       "model_id": "296effd4b0104b16b30a92aa2312c8ad",
       "version_major": 2,
       "version_minor": 0
      },
      "text/plain": [
       "BoundedFloatText(value=0.0, description='procesado:', max=5035.0)"
      ]
     },
     "metadata": {},
     "output_type": "display_data"
    },
    {
     "name": "stdout",
     "output_type": "stream",
     "text": [
      "No se pudo recuperar battlelog de tag #2JU2UQYJP\n",
      "No se pudo recuperar battlelog de tag #CUQJ8CL\n"
     ]
    }
   ],
   "source": [
    "# importar battelog de api\n",
    "progress = widgets.IntProgress(\n",
    "\tvalue=0, \n",
    "\tmin=0, \n",
    "\tmax=100, \n",
    "\tdescription='cargando:',\n",
    "\tstyle={'bar_color': 'maroon'}) \n",
    "\n",
    "processed = widgets.BoundedFloatText(\n",
    "    value=0,\n",
    "    min=0,\n",
    "    max=len(topplayer_tag),\n",
    "    description='procesado:',\n",
    "    disabled=False\n",
    ")\n",
    "\n",
    "display(progress)\n",
    "display(processed)\n",
    "\n",
    "data = {}\n",
    "\n",
    "for i in range(len(topplayer_tag)):\n",
    "    json_battlelog = {}\n",
    "    playertag = topplayer_tag[i]\n",
    "    try:\n",
    "        json_battlelog = client.get_battle_logs(playertag).raw_data\n",
    "    except:\n",
    "        print(\"No se pudo recuperar battlelog de tag \" + playertag)\n",
    "    \n",
    "    for k in range(len(json_battlelog)):\n",
    "        loaded_json = json_battlelog[k]\n",
    "        loaded_json['playertag'] = playertag\n",
    "        data[str(i) + '-' + str(k)] = loaded_json\n",
    "\n",
    "        progress.value = ((i+1) / len(topplayer_tag)) * 100\n",
    "        processed.value = i+1\n",
    "\n",
    "battlelog = pd.DataFrame.from_dict(data, orient='index').reset_index(drop=True)"
   ]
  },
  {
   "cell_type": "code",
   "execution_count": 11,
   "metadata": {},
   "outputs": [],
   "source": [
    "# creación del dataframe\n",
    "#battlelog = pd.DataFrame()\n",
    "\n",
    "#def split_json(s):\n",
    "#\t# separa un string por el item \"\n",
    "#\ts = str(s).split('\"')\n",
    "#\n",
    "#\treturn s\n",
    "\n",
    "#def clean_json(jsonitem):\n",
    "#\t# para una lista de artiuclos de json, separa en \" y limpia los elementos impares de la lista resultante \n",
    "#\tfor i in range(len(jsonitem)):\n",
    "#\t\tsplitted = split_json(jsonitem[i])\n",
    "#\t\tfor j in range(len(splitted)):\n",
    "#\t\t\tsplitted[j] = str(splitted[j]).replace('None','\"None\"').replace('False','\"False\"').replace('True','\"True\"')\n",
    "#\t\t\tif j % 2 == 1 and len(splitted[j]) < 20:\n",
    "#\t\t\t\tsplitted[j] = '\"' + str(splitted[j]).replace(\"'\",'`') + '\"'\n",
    "#\t\t\telse:\n",
    "#\t\t\t\tsplitted[j] = str(splitted[j]).replace(\"'\",'\"')\n",
    "#\t\tjsonitem[i] = ''.join(splitted)\n",
    "#\t\n",
    "#\treturn jsonitem\n",
    "\n",
    "#def cleanjson(val):\n",
    "#\tresult = str(val).replace('\"',\"`\").replace(': `', \": '\").replace('`,',\"',\").replace('`}',\"'}\").replace(\"e's\",'e`s').replace('\"ll','`ll').replace(\"I'm\", 'I`m').replace(\"i'm\", 'i`m').replace(\"' \",\"` \").replace(\"t's\",\"t`s\").replace('None',\"'None'\").replace(\"'\",'\"')\n",
    "#\treturn result\n",
    "\n",
    "# progress = widgets.IntProgress(\n",
    "# \tvalue=0, \n",
    "# \tmin=0, \n",
    "# \tmax=100, \n",
    "# \tdescription='cargando:',\n",
    "# \tstyle={'bar_color': 'maroon'}) \n",
    "\n",
    "# processed = widgets.BoundedFloatText(\n",
    "#     value=0,\n",
    "#     min=0,\n",
    "#     max=len(topplayer_tag),\n",
    "#     description='procesado:',\n",
    "#     disabled=False\n",
    "# )\n",
    "\n",
    "# display(progress)\n",
    "# display(processed)\n",
    "\n",
    "# for i in range(len(topplayer_tag)):\n",
    "\n",
    "# \tjson_battlelog = {}\n",
    "# \tplayertag = topplayer_tag[i]\n",
    "# \ttry:\n",
    "# \t\tjson_battlelog = client.get_battle_logs(playertag).raw_data\n",
    "# \texcept:\n",
    "# \t\tprint(\"No se pudo recuperar battlelog de tag \" + playertag)\n",
    "\n",
    "# \tfor k in range(len(json_battlelog)):\n",
    "# \t\tloaded_json = json_battlelog[k]\n",
    "# \t\tjson_battlelog[k]['playertag'] = playertag\n",
    "# \t\ttry:\n",
    "# \t\t\tbattlelog = battlelog.append(pd.json_normalize(loaded_json), ignore_index=True)\n",
    "# \t\texcept:\n",
    "# \t\t\tprint(\"no se pudo importar \" + playertag + \" battlelog numero \" + str(k))\n",
    "\n",
    "# \tprogress.value = ((i+1) / len(topplayer_tag)) * 100\n",
    "# \tprocessed.value = i\n"
   ]
  },
  {
   "cell_type": "code",
   "execution_count": 12,
   "metadata": {},
   "outputs": [],
   "source": [
    "# desglose de dataframe\n",
    "battlelog = pd.merge(left=battlelog, right=pd.json_normalize(battlelog['event']).add_prefix('event.'), left_index=True, right_index=True)\n",
    "battlelog = pd.merge(left=battlelog, right=pd.json_normalize(battlelog['battle']).add_prefix('battle.'), left_index=True, right_index=True)"
   ]
  },
  {
   "cell_type": "code",
   "execution_count": 13,
   "metadata": {},
   "outputs": [
    {
     "name": "stdout",
     "output_type": "stream",
     "text": [
      "dimensiones battlelog: (115989, 28)\n"
     ]
    }
   ],
   "source": [
    "# reset battlelog index\n",
    "battlelog.drop('event', inplace=True, axis=1)\n",
    "battlelog.drop('battle', inplace=True, axis=1)\n",
    "print('dimensiones battlelog: ' + str(battlelog.shape))"
   ]
  },
  {
   "cell_type": "code",
   "execution_count": 14,
   "metadata": {},
   "outputs": [
    {
     "name": "stdout",
     "output_type": "stream",
     "text": [
      "<class 'pandas.core.frame.DataFrame'>\n",
      "RangeIndex: 115989 entries, 0 to 115988\n",
      "Data columns (total 28 columns):\n",
      " #   Column                              Non-Null Count   Dtype  \n",
      "---  ------                              --------------   -----  \n",
      " 0   battleTime                          115989 non-null  object \n",
      " 1   playertag                           115989 non-null  object \n",
      " 2   event.id                            115989 non-null  int64  \n",
      " 3   event.mode                          98719 non-null   object \n",
      " 4   event.map                           98719 non-null   object \n",
      " 5   battle.mode                         115989 non-null  object \n",
      " 6   battle.type                         115100 non-null  object \n",
      " 7   battle.result                       84587 non-null   object \n",
      " 8   battle.duration                     83800 non-null   float64\n",
      " 9   battle.trophyChange                 75528 non-null   float64\n",
      " 10  battle.teams                        97410 non-null   object \n",
      " 11  battle.starPlayer.tag               72135 non-null   object \n",
      " 12  battle.starPlayer.name              72135 non-null   object \n",
      " 13  battle.starPlayer.brawler.id        72135 non-null   float64\n",
      " 14  battle.starPlayer.brawler.name      72135 non-null   object \n",
      " 15  battle.starPlayer.brawler.power     72135 non-null   float64\n",
      " 16  battle.starPlayer.brawler.trophies  72135 non-null   float64\n",
      " 17  battle.rank                         31312 non-null   float64\n",
      " 18  battle.players                      18579 non-null   object \n",
      " 19  battle.starPlayer                   0 non-null       float64\n",
      " 20  battle.level.name                   799 non-null     object \n",
      " 21  battle.level.id                     799 non-null     float64\n",
      " 22  battle.bigBrawler.tag               30 non-null      object \n",
      " 23  battle.bigBrawler.name              30 non-null      object \n",
      " 24  battle.bigBrawler.brawler.id        30 non-null      float64\n",
      " 25  battle.bigBrawler.brawler.name      30 non-null      object \n",
      " 26  battle.bigBrawler.brawler.power     30 non-null      float64\n",
      " 27  battle.bigBrawler.brawler.trophies  30 non-null      float64\n",
      "dtypes: float64(11), int64(1), object(16)\n",
      "memory usage: 24.8+ MB\n"
     ]
    }
   ],
   "source": [
    "battlelog.info()"
   ]
  },
  {
   "cell_type": "code",
   "execution_count": 15,
   "metadata": {},
   "outputs": [
    {
     "data": {
      "text/plain": [
       "ranked        89830\n",
       "soloRanked    11191\n",
       "teamRanked     6745\n",
       "friendly       4955\n",
       "challenge      2132\n",
       "tournament      247\n",
       "Name: battle.type, dtype: int64"
      ]
     },
     "execution_count": 15,
     "metadata": {},
     "output_type": "execute_result"
    }
   ],
   "source": [
    "# cuenta tipos de juego\n",
    "battlelog['battle.type'].value_counts()"
   ]
  },
  {
   "cell_type": "code",
   "execution_count": 16,
   "metadata": {},
   "outputs": [],
   "source": [
    "# eliminar friendly\n",
    "battlelog = battlelog.loc[battlelog['battle.type'] != \"friendly\"]"
   ]
  },
  {
   "cell_type": "code",
   "execution_count": 17,
   "metadata": {},
   "outputs": [
    {
     "data": {
      "text/plain": [
       "brawlBall       31400\n",
       "soloShowdown    16783\n",
       "duoShowdown     13466\n",
       "knockout        10553\n",
       "bounty          10394\n",
       "gemGrab         10031\n",
       "heist            9760\n",
       "hotZone          7758\n",
       "bossFight         799\n",
       "roboRumble         60\n",
       "bigGame            30\n",
       "Name: battle.mode, dtype: int64"
      ]
     },
     "execution_count": 17,
     "metadata": {},
     "output_type": "execute_result"
    }
   ],
   "source": [
    "# cuenta modos de juego\n",
    "battlelog['battle.mode'].value_counts() "
   ]
  },
  {
   "cell_type": "code",
   "execution_count": 18,
   "metadata": {},
   "outputs": [],
   "source": [
    "# eliminar modos alt y modos showdown\n",
    "modos_alt = ['bossFight','roboRumble','bigGame','soloShowdown','duoShowdown']\n",
    "battlelog = battlelog.loc[~battlelog['battle.mode'].isin(modos_alt)]"
   ]
  },
  {
   "cell_type": "code",
   "execution_count": 19,
   "metadata": {},
   "outputs": [],
   "source": [
    "# eliminar event vacio\n",
    "battlelog['event.mode'] = battlelog['event.mode'].fillna('unknown')\n",
    "battlelog = battlelog.loc[battlelog['event.mode'] != \"unknown\"]"
   ]
  },
  {
   "cell_type": "code",
   "execution_count": 20,
   "metadata": {},
   "outputs": [],
   "source": [
    "# eliminar map vacio\n",
    "battlelog['event.map'] = battlelog['event.map'].fillna('unknown')\n",
    "battlelog = battlelog.loc[battlelog['event.map'] != \"unknown\"]"
   ]
  },
  {
   "cell_type": "code",
   "execution_count": 21,
   "metadata": {},
   "outputs": [
    {
     "name": "stdout",
     "output_type": "stream",
     "text": [
      "dimensiones battlelog: (65434, 28)\n"
     ]
    }
   ],
   "source": [
    "# reset battlelog index\n",
    "battlelog.reset_index(drop=True, inplace=True)\n",
    "\n",
    "print('dimensiones battlelog: ' + str(battlelog.shape))"
   ]
  },
  {
   "cell_type": "code",
   "execution_count": 22,
   "metadata": {},
   "outputs": [],
   "source": [
    "# crear listado de players en battelog\n",
    "\n",
    "#playerlist = pd.DataFrame(pd.concat([\n",
    "#\tbattlelog['playertag'], \n",
    "#\tbattlelog['battle.starPlayer.tag'], \n",
    "#\tbattlelog['battle.team1.player1.tag'], \n",
    "#\tbattlelog['battle.team1.player2.tag'], \n",
    "#\tbattlelog['battle.team1.player3.tag'], \n",
    "#\tbattlelog['battle.team2.player1.tag'], \n",
    "#\tbattlelog['battle.team2.player2.tag'], \n",
    "#\tbattlelog['battle.team2.player3.tag']\n",
    "#\t], ignore_index=True).drop_duplicates().reset_index(drop=True))\n",
    "#\n",
    "#playerlist.shape"
   ]
  },
  {
   "cell_type": "code",
   "execution_count": 23,
   "metadata": {},
   "outputs": [],
   "source": [
    "# crear listado nuevos playersplayers_hist\n",
    "#playerlist_merge = pd.merge(playerlist, players_hist['tag'], left_on=0, right_on='tag', how='left').drop_duplicates().reset_index(drop=True)\n",
    "#\n",
    "#playerlist_final = playerlist_merge[0][playerlist_merge['tag'].isna()].drop_duplicates().reset_index(drop=True)\n",
    "#\n",
    "#playerlist_final.shape"
   ]
  },
  {
   "cell_type": "code",
   "execution_count": 24,
   "metadata": {},
   "outputs": [],
   "source": [
    "# agregar datos de player\n",
    "#players = pd.DataFrame()\n",
    "#\n",
    "#for i in range(len(playerlist_final)):\n",
    "#\n",
    "#\tjson_player = []\n",
    "#\tplayertag = playerlist_final.loc[i]\n",
    "#\ttry:\n",
    "#\t\tjson_player = client.get_profile(playerlist_final.loc[i]).raw_data\n",
    "#\t\tdel json_player['brawlers']\n",
    "#\texcept:\n",
    "#\t\tprint(\"No se pudo recuperar player de tag \" + str(playertag))\n",
    "#\n",
    "#\ttry:\n",
    "#\t\tplayers = pd.concat([players, pd.json_normalize(json_player)])\n",
    "#\texcept:\n",
    "#\t\tprint(\"no se pudo importar player tag \" + str(playertag))\n",
    "\n",
    "# progress = widgets.IntProgress(\n",
    "# \tvalue=0, \n",
    "# \tmin=0, \n",
    "# \tmax=100, \n",
    "# \tdescription='cargando:',\n",
    "# \tstyle={'bar_color': 'maroon'}) \n",
    "\n",
    "# processed = widgets.BoundedFloatText(\n",
    "#     value=0,\n",
    "#     min=0,\n",
    "#     max=len(topplayer_tag),\n",
    "#     description='procesado:',\n",
    "#     disabled=False\n",
    "# )\n",
    "\n",
    "# display(progress)\n",
    "# display(processed)\n",
    "\n",
    "# timestamp = datetime.datetime.now().strftime(\"%Y%m%d%H%M%S\")\n",
    "\n",
    "# player = {}\n",
    "# json_player = []\n",
    "\n",
    "# for i, playertag in enumerate(topplayer_tag):\n",
    "#     try:\n",
    "#         json_player = client.get_profile(playertag).raw_data\n",
    "#         del json_player['brawlers']\n",
    "#         json_player['import_date'] = timestamp\n",
    "#         player[str(i)] = json_player\n",
    "#     except:\n",
    "#         print(\"No se pudo recuperar profile de tag \" + str(playertag))\n",
    "\n",
    "#     progress.value = ((i+1) / len(topplayer_tag)) * 100\n",
    "#     processed.value = i+1\n",
    "\n",
    "# players = pd.DataFrame.from_dict(player, orient='index').reset_index(drop=True)"
   ]
  },
  {
   "cell_type": "code",
   "execution_count": 25,
   "metadata": {},
   "outputs": [],
   "source": [
    "# players_hist = pd.read_csv('datasets/players/players.csv', index_col=0)\n",
    "# players_hist.shape"
   ]
  },
  {
   "cell_type": "code",
   "execution_count": 26,
   "metadata": {},
   "outputs": [],
   "source": [
    "# concatenar las bases\n",
    "# players = pd.concat([players, players_hist], ignore_index=True).drop_duplicates(['tag']).reset_index(drop=True)\n",
    "\n",
    "# print('dimensiones players: ' + str(players.shape))"
   ]
  },
  {
   "cell_type": "code",
   "execution_count": 27,
   "metadata": {},
   "outputs": [],
   "source": [
    "# players.to_csv('datasets/players/players.csv')"
   ]
  },
  {
   "cell_type": "code",
   "execution_count": 28,
   "metadata": {},
   "outputs": [
    {
     "name": "stdout",
     "output_type": "stream",
     "text": [
      "<class 'pandas.core.frame.DataFrame'>\n",
      "RangeIndex: 65434 entries, 0 to 65433\n",
      "Data columns (total 64 columns):\n",
      " #   Column                                 Non-Null Count  Dtype  \n",
      "---  ------                                 --------------  -----  \n",
      " 0   battleTime                             65434 non-null  object \n",
      " 1   playertag                              65434 non-null  object \n",
      " 2   event.id                               65434 non-null  int64  \n",
      " 3   event.mode                             65434 non-null  object \n",
      " 4   event.map                              65434 non-null  object \n",
      " 5   battle.mode                            65434 non-null  object \n",
      " 6   battle.type                            65434 non-null  object \n",
      " 7   battle.result                          65434 non-null  object \n",
      " 8   battle.duration                        65434 non-null  float64\n",
      " 9   battle.trophyChange                    48559 non-null  float64\n",
      " 10  battle.teams                           65434 non-null  object \n",
      " 11  battle.starPlayer.tag                  55060 non-null  object \n",
      " 12  battle.starPlayer.name                 55060 non-null  object \n",
      " 13  battle.starPlayer.brawler.id           55060 non-null  float64\n",
      " 14  battle.starPlayer.brawler.name         55060 non-null  object \n",
      " 15  battle.starPlayer.brawler.power        55060 non-null  float64\n",
      " 16  battle.starPlayer.brawler.trophies     55060 non-null  float64\n",
      " 17  battle.rank                            0 non-null      float64\n",
      " 18  battle.players                         0 non-null      object \n",
      " 19  battle.starPlayer                      0 non-null      float64\n",
      " 20  battle.level.name                      0 non-null      object \n",
      " 21  battle.level.id                        0 non-null      float64\n",
      " 22  battle.bigBrawler.tag                  0 non-null      object \n",
      " 23  battle.bigBrawler.name                 0 non-null      object \n",
      " 24  battle.bigBrawler.brawler.id           0 non-null      float64\n",
      " 25  battle.bigBrawler.brawler.name         0 non-null      object \n",
      " 26  battle.bigBrawler.brawler.power        0 non-null      float64\n",
      " 27  battle.bigBrawler.brawler.trophies     0 non-null      float64\n",
      " 28  battle.team1.player1.tag               65434 non-null  object \n",
      " 29  battle.team1.player1.name              65434 non-null  object \n",
      " 30  battle.team1.player1.brawler.id        65434 non-null  float64\n",
      " 31  battle.team1.player1.brawler.name      65434 non-null  object \n",
      " 32  battle.team1.player1.brawler.power     65434 non-null  float64\n",
      " 33  battle.team1.player1.brawler.trophies  65434 non-null  float64\n",
      " 34  battle.team1.player2.tag               65434 non-null  object \n",
      " 35  battle.team1.player2.name              65434 non-null  object \n",
      " 36  battle.team1.player2.brawler.id        65434 non-null  float64\n",
      " 37  battle.team1.player2.brawler.name      65434 non-null  object \n",
      " 38  battle.team1.player2.brawler.power     65434 non-null  float64\n",
      " 39  battle.team1.player2.brawler.trophies  65434 non-null  float64\n",
      " 40  battle.team1.player3.tag               65434 non-null  object \n",
      " 41  battle.team1.player3.name              65434 non-null  object \n",
      " 42  battle.team1.player3.brawler.id        65434 non-null  float64\n",
      " 43  battle.team1.player3.brawler.name      65434 non-null  object \n",
      " 44  battle.team1.player3.brawler.power     65434 non-null  float64\n",
      " 45  battle.team1.player3.brawler.trophies  65434 non-null  float64\n",
      " 46  battle.team2.player1.tag               65434 non-null  object \n",
      " 47  battle.team2.player1.name              65434 non-null  object \n",
      " 48  battle.team2.player1.brawler.id        65434 non-null  float64\n",
      " 49  battle.team2.player1.brawler.name      65434 non-null  object \n",
      " 50  battle.team2.player1.brawler.power     65434 non-null  float64\n",
      " 51  battle.team2.player1.brawler.trophies  65434 non-null  float64\n",
      " 52  battle.team2.player2.tag               65434 non-null  object \n",
      " 53  battle.team2.player2.name              65434 non-null  object \n",
      " 54  battle.team2.player2.brawler.id        65434 non-null  float64\n",
      " 55  battle.team2.player2.brawler.name      65434 non-null  object \n",
      " 56  battle.team2.player2.brawler.power     65434 non-null  float64\n",
      " 57  battle.team2.player2.brawler.trophies  65434 non-null  float64\n",
      " 58  battle.team2.player3.tag               65434 non-null  object \n",
      " 59  battle.team2.player3.name              65434 non-null  object \n",
      " 60  battle.team2.player3.brawler.id        65434 non-null  float64\n",
      " 61  battle.team2.player3.brawler.name      65434 non-null  object \n",
      " 62  battle.team2.player3.brawler.power     65434 non-null  float64\n",
      " 63  battle.team2.player3.brawler.trophies  65434 non-null  float64\n",
      "dtypes: float64(29), int64(1), object(34)\n",
      "memory usage: 32.0+ MB\n"
     ]
    }
   ],
   "source": [
    "# descomponer la columna teams\n",
    "\n",
    "# def battle_delimiter(i, j):\n",
    "# \tresult = pd.json_normalize(pd.json_normalize(pd.json_normalize(pd.json_normalize(rawdata['battle'])['teams'])[i])[j])\n",
    "# \treturn result\n",
    "\n",
    "def normalize_to_df(i, t, p):\n",
    "\tbattlelog.loc[i,'battle.team' + str(t) + '.player' + str(p) + '.tag'] = normalized[t - 1][p - 1]['tag']\n",
    "\tbattlelog.loc[i,'battle.team' + str(t) + '.player' + str(p) + '.name'] = normalized[t - 1][p - 1]['name']\n",
    "\tbattlelog.loc[i,'battle.team' + str(t) + '.player' + str(p) + '.brawler.id'] = normalized[t - 1][p - 1]['brawler.id']\n",
    "\tbattlelog.loc[i,'battle.team' + str(t) + '.player' + str(p) + '.brawler.name'] = normalized[t - 1][p - 1]['brawler.name']\n",
    "\tbattlelog.loc[i,'battle.team' + str(t) + '.player' + str(p) + '.brawler.power'] = normalized[t - 1][p - 1]['brawler.power']\n",
    "\tbattlelog.loc[i,'battle.team' + str(t) + '.player' + str(p) + '.brawler.trophies'] = normalized[t - 1][p - 1]['brawler.trophies']\n",
    "\n",
    "normalized = pd.DataFrame()\n",
    "\n",
    "for i, team in enumerate(battlelog['battle.teams']):\n",
    "\tif team != None:\n",
    "\t\ttry:\n",
    "\t\t\tnormalized = pd.json_normalize(team, errors='ignore').transpose()\n",
    "\t\t\tnormalize_to_df(i, 1, 1)\n",
    "\t\t\tnormalize_to_df(i, 1, 2)\n",
    "\t\t\tnormalize_to_df(i, 1, 3)\n",
    "\t\t\tnormalize_to_df(i, 2, 1)\n",
    "\t\t\tnormalize_to_df(i, 2, 2)\n",
    "\t\t\tnormalize_to_df(i, 2, 3)\n",
    "\t\texcept:\n",
    "\t\t\tprint(\"no se pudo transponer\")\n",
    "\n",
    "battlelog.info()\n"
   ]
  },
  {
   "cell_type": "code",
   "execution_count": 29,
   "metadata": {},
   "outputs": [],
   "source": [
    "# eliminar battle teams\n",
    "battlelog = battlelog.drop(columns=[\n",
    "'battle.teams'\n",
    "])"
   ]
  },
  {
   "cell_type": "code",
   "execution_count": 30,
   "metadata": {},
   "outputs": [
    {
     "name": "stderr",
     "output_type": "stream",
     "text": [
      "C:\\Users\\alniquia\\AppData\\Local\\Temp\\ipykernel_12296\\612617333.py:6: DtypeWarning: Columns (21) have mixed types. Specify dtype option on import or set low_memory=False.\n",
      "  battlelog_hist = pd.read_csv('datasets/teams/battlelog_teams.csv', index_col=0)\n"
     ]
    },
    {
     "name": "stdout",
     "output_type": "stream",
     "text": [
      "dimensiones battlelog hist: (484473, 63)\n"
     ]
    }
   ],
   "source": [
    "# traer archivo histórico battlelog\n",
    "with zipfile.ZipFile('datasets/teams/battlelog_teams.zip', 'r') as zip_ref:\n",
    "    # Extraer el archivo CSV\n",
    "    zip_ref.extractall('datasets/teams/')\n",
    "    \n",
    "battlelog_hist = pd.read_csv('datasets/teams/battlelog_teams.csv', index_col=0)\n",
    "\n",
    "print('dimensiones battlelog hist: ' + str(battlelog_hist.shape))"
   ]
  },
  {
   "cell_type": "code",
   "execution_count": 31,
   "metadata": {},
   "outputs": [
    {
     "name": "stdout",
     "output_type": "stream",
     "text": [
      "dimensiones battlelog concat: (549907, 63)\n"
     ]
    }
   ],
   "source": [
    "# agregar nuevos reg a histórico\n",
    "battlelog = pd.concat([battlelog, battlelog_hist])\n",
    "print('dimensiones battlelog concat: ' + str(battlelog.shape))"
   ]
  },
  {
   "cell_type": "code",
   "execution_count": 32,
   "metadata": {},
   "outputs": [
    {
     "name": "stdout",
     "output_type": "stream",
     "text": [
      "dimensiones battlelog final: (531208, 63)\n"
     ]
    }
   ],
   "source": [
    "# eliminar battelogs duplicados\n",
    "battlelog = battlelog.drop_duplicates(['battleTime', 'event.id', 'event.mode', 'event.map', 'battle.mode', 'battle.type', 'battle.duration', 'battle.team1.player1.tag'], ignore_index=True)\n",
    "\n",
    "print('dimensiones battlelog final: ' + str(battlelog.shape))"
   ]
  },
  {
   "cell_type": "code",
   "execution_count": 33,
   "metadata": {},
   "outputs": [],
   "source": [
    "# export dataset teams completo mas histórico\n",
    "battlelog.to_csv('datasets/teams/battlelog_teams.csv')\n",
    "\n",
    "# Comprimir el archivo CSV\n",
    "with zipfile.ZipFile('datasets/teams/battlelog_teams.zip', 'w') as zip_file:\n",
    "    zip_file.write('datasets/teams/battlelog_teams.csv', arcname='battlelog_teams.csv',compress_type=zipfile.ZIP_DEFLATED)\n",
    "\n",
    "os.remove('datasets/teams/battlelog_teams.csv')"
   ]
  },
  {
   "cell_type": "code",
   "execution_count": 34,
   "metadata": {},
   "outputs": [],
   "source": [
    "maplist = battlelog[['event.mode','event.map']].drop_duplicates()\n",
    "\n",
    "maplist.to_csv('datasets/maps/maplist.csv')"
   ]
  }
 ],
 "metadata": {
  "kernelspec": {
   "display_name": "Python 3",
   "language": "python",
   "name": "python3"
  },
  "language_info": {
   "codemirror_mode": {
    "name": "ipython",
    "version": 3
   },
   "file_extension": ".py",
   "mimetype": "text/x-python",
   "name": "python",
   "nbconvert_exporter": "python",
   "pygments_lexer": "ipython3",
   "version": "3.11.0"
  },
  "orig_nbformat": 4,
  "vscode": {
   "interpreter": {
    "hash": "4b0513afd20a5cc577fca9da950d42d1e3c742e55e08a19f57b01f1278df70cd"
   }
  }
 },
 "nbformat": 4,
 "nbformat_minor": 2
}
