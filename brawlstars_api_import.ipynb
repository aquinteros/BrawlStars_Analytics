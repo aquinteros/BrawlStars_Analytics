{
 "cells": [
  {
   "attachments": {},
   "cell_type": "markdown",
   "metadata": {},
   "source": [
    "## Import packages"
   ]
  },
  {
   "cell_type": "code",
   "execution_count": 57,
   "metadata": {},
   "outputs": [],
   "source": [
    "# importar paquetes a ocupar\n",
    "import brawlstats\n",
    "import pandas as pd\n",
    "import datetime\n",
    "# import ipywidgets as widgets\n",
    "# import zipfile\n",
    "# import os\n",
    "import api_key as key\n",
    "import fastparquet\n",
    "import concurrent.futures as cf\n",
    "from tqdm.notebook import tqdm"
   ]
  },
  {
   "attachments": {},
   "cell_type": "markdown",
   "metadata": {},
   "source": [
    "## Import from API"
   ]
  },
  {
   "cell_type": "code",
   "execution_count": 58,
   "metadata": {},
   "outputs": [],
   "source": [
    "# crear cliente\n",
    "client = brawlstats.Client(key.api_key)"
   ]
  },
  {
   "cell_type": "code",
   "execution_count": 59,
   "metadata": {},
   "outputs": [],
   "source": [
    "# importar brawlers\n",
    "brawlers = pd.DataFrame()\n",
    "json_brawlers = client.get_brawlers().raw_data\n",
    "brawlers = pd.concat([brawlers, pd.json_normalize(json_brawlers)])"
   ]
  },
  {
   "cell_type": "code",
   "execution_count": 60,
   "metadata": {},
   "outputs": [],
   "source": [
    "brawlers = pd.merge(left=brawlers, right=pd.json_normalize(brawlers['starPowers']).add_prefix('starPowers.'), left_index=True, right_index=True)\n",
    "brawlers = pd.merge(left=brawlers, right=pd.json_normalize(brawlers['gadgets']).add_prefix('gadgets.'), left_index=True, right_index=True)\n",
    "brawlers = brawlers.drop('starPowers', axis=1)\n",
    "brawlers = brawlers.drop('gadgets', axis=1)"
   ]
  },
  {
   "cell_type": "code",
   "execution_count": 61,
   "metadata": {},
   "outputs": [
    {
     "name": "stdout",
     "output_type": "stream",
     "text": [
      "<class 'pandas.core.frame.DataFrame'>\n",
      "RangeIndex: 64 entries, 0 to 63\n",
      "Data columns (total 6 columns):\n",
      " #   Column        Non-Null Count  Dtype \n",
      "---  ------        --------------  ----- \n",
      " 0   id            64 non-null     int64 \n",
      " 1   name          64 non-null     object\n",
      " 2   starPowers.0  64 non-null     object\n",
      " 3   starPowers.1  64 non-null     object\n",
      " 4   gadgets.0     64 non-null     object\n",
      " 5   gadgets.1     64 non-null     object\n",
      "dtypes: int64(1), object(5)\n",
      "memory usage: 3.1+ KB\n",
      "None\n"
     ]
    }
   ],
   "source": [
    "# reset brawler index y export de dataset\n",
    "brawlers.to_parquet('datasets/brawlers/brawlers.parquet', index=False, engine='fastparquet', compression='gzip')\n",
    "\n",
    "print(brawlers.info())"
   ]
  },
  {
   "cell_type": "code",
   "execution_count": 62,
   "metadata": {},
   "outputs": [],
   "source": [
    "# import información adicional de brawlers\n",
    "brawlers_classification = pd.read_csv('datasets/brawlers/brawlers_classification.csv', index_col=0)"
   ]
  },
  {
   "cell_type": "code",
   "execution_count": 63,
   "metadata": {},
   "outputs": [
    {
     "name": "stdout",
     "output_type": "stream",
     "text": [
      "<class 'pandas.core.frame.DataFrame'>\n",
      "Int64Index: 64 entries, 0 to 63\n",
      "Data columns (total 17 columns):\n",
      " #   Column          Non-Null Count  Dtype  \n",
      "---  ------          --------------  -----  \n",
      " 0   id              64 non-null     int64  \n",
      " 1   name            64 non-null     object \n",
      " 2   starPowers.0    64 non-null     object \n",
      " 3   starPowers.1    64 non-null     object \n",
      " 4   gadgets.0       64 non-null     object \n",
      " 5   gadgets.1       64 non-null     object \n",
      " 6   Brawler         64 non-null     object \n",
      " 7   Health          64 non-null     float64\n",
      " 8   Rarity          64 non-null     object \n",
      " 9   Class           64 non-null     object \n",
      " 10  Movement_Speed  64 non-null     object \n",
      " 11  Range           63 non-null     object \n",
      " 12  Reload          63 non-null     object \n",
      " 13  Speed_Num       64 non-null     int64  \n",
      " 14  Range_Num       64 non-null     float64\n",
      " 15  Reload_Num      63 non-null     float64\n",
      " 16  Role            64 non-null     object \n",
      "dtypes: float64(3), int64(2), object(12)\n",
      "memory usage: 9.0+ KB\n",
      "None\n"
     ]
    }
   ],
   "source": [
    "# merge de ambos dataframes\n",
    "brawlerStats = pd.merge(brawlers, brawlers_classification, on='id')\n",
    "print(brawlerStats.info())"
   ]
  },
  {
   "cell_type": "code",
   "execution_count": 64,
   "metadata": {},
   "outputs": [
    {
     "name": "stdout",
     "output_type": "stream",
     "text": [
      "dimensiones brawlerStats: (64, 17)\n"
     ]
    }
   ],
   "source": [
    "# export dataframe final brawlers\n",
    "brawlerStats.to_parquet('datasets/brawlers/brawlers_stats.parquet', index=False, engine='fastparquet', compression='gzip')\n",
    "\n",
    "print('dimensiones brawlerStats: ' + str(brawlerStats.shape))"
   ]
  },
  {
   "cell_type": "code",
   "execution_count": 65,
   "metadata": {},
   "outputs": [],
   "source": [
    "countryCode = ['US','MX','BR','GB','CA','DE','FR','ES','IT','RU','TR','AR','PL','CO','IN','ID','UA','AU','NL','JP','KR','CZ','CH','PH','MY','VN','IE',]#'TH','IL','NO','FI','PT','AT','GR','HU','SG','SA','AE','SE','DK','BZ','CR','GT','HN','NI','PA','SV','BO','CL','EC']"
   ]
  },
  {
   "cell_type": "code",
   "execution_count": 66,
   "metadata": {},
   "outputs": [
    {
     "name": "stdout",
     "output_type": "stream",
     "text": [
      "cantidad top player tag: 200\n"
     ]
    }
   ],
   "source": [
    "# sacar el player tag de los top players\n",
    "top_player = []\n",
    "\n",
    "# top global\n",
    "leaderboard = client.get_rankings(ranking='players')\n",
    "for i in leaderboard:\n",
    "    top_player.append({'tag': i.tag, 'trophies': i.trophies, 'rank_type': 'global'})\n",
    "\n",
    "# top por regiones en countryCode\n",
    "for i, item in enumerate(countryCode):\n",
    "   leaderboard = client.get_rankings(ranking='players',region=item)\n",
    "   for k in leaderboard:\n",
    "    top_player.append({'tag': k.tag, 'trophies': k.trophies, 'rank_type': item})\n",
    "\n",
    "top_player = pd.DataFrame(top_player).drop_duplicates(subset='tag', keep='first').reset_index(drop=True)\n",
    "\n",
    "print('cantidad top player tag: ' + str(len(top_player)))\n",
    "\n",
    "# exportar dataset en parquet\n",
    "top_player.to_parquet('datasets/players/top_player.parquet', index=False, engine='fastparquet', compression='gzip')"
   ]
  },
  {
   "cell_type": "code",
   "execution_count": 67,
   "metadata": {},
   "outputs": [
    {
     "name": "stdout",
     "output_type": "stream",
     "text": [
      "cantidad top club tag: 5600\n"
     ]
    }
   ],
   "source": [
    "# sacar el club de los top clubs\n",
    "top_club = []\n",
    "\n",
    "# top global\n",
    "leaderboard = client.get_rankings(ranking='clubs')\n",
    "for i in leaderboard:\n",
    "    top_club.append({'tag': i.tag, 'trophies': i.trophies, 'rank_type': 'global'})\n",
    "\n",
    "# top por regiones en countryCode\n",
    "for i, item in enumerate(countryCode):\n",
    "   leaderboard = client.get_rankings(ranking='players',region=item)\n",
    "   for k in leaderboard:\n",
    "    top_club.append({'tag': k.tag, 'trophies': k.trophies, 'rank_type': 'region'})\n",
    "\n",
    "top_club = pd.DataFrame(top_club).drop_duplicates(subset='tag', keep='first').reset_index(drop=True)\n",
    "\n",
    "print('cantidad top club tag: ' + str(len(top_club)))\n",
    "\n",
    "# exportar dataset en parquet\n",
    "top_club.to_parquet('datasets/clubs/top_club.parquet', index=False, engine='fastparquet', compression='gzip')"
   ]
  },
  {
   "cell_type": "code",
   "execution_count": 68,
   "metadata": {},
   "outputs": [
    {
     "data": {
      "application/vnd.jupyter.widget-view+json": {
       "model_id": "a787ded0d97647ba8e5216e2e8cd311a",
       "version_major": 2,
       "version_minor": 0
      },
      "text/plain": [
       "  0%|          | 0/200 [00:00<?, ?it/s]"
      ]
     },
     "metadata": {},
     "output_type": "display_data"
    },
    {
     "name": "stdout",
     "output_type": "stream",
     "text": [
      "No se pudo recuperar battlelog de tag #CPYUR8QR\n"
     ]
    }
   ],
   "source": [
    "# importar battelog de api\n",
    "\n",
    "data = {}\n",
    "\n",
    "for i, playertag in tqdm(enumerate(top_player['tag']), total = len(top_player['tag']), colour='brown'):\n",
    "    json_battlelog = {}\n",
    "    try:\n",
    "        json_battlelog = client.get_battle_logs(playertag).raw_data\n",
    "    except:\n",
    "        print(\"No se pudo recuperar battlelog de tag \" + playertag)\n",
    "    \n",
    "    for k in range(len(json_battlelog)):\n",
    "        loaded_json = json_battlelog[k]\n",
    "        loaded_json['playertag'] = playertag\n",
    "        data[str(i) + '-' + str(k)] = loaded_json\n",
    "\n",
    "battlelog = pd.DataFrame.from_dict(data, orient='index').reset_index(drop=True)"
   ]
  },
  {
   "cell_type": "code",
   "execution_count": 69,
   "metadata": {},
   "outputs": [],
   "source": [
    "# creación del dataframe\n",
    "#battlelog = pd.DataFrame()\n",
    "\n",
    "#def split_json(s):\n",
    "#\t# separa un string por el item \"\n",
    "#\ts = str(s).split('\"')\n",
    "#\n",
    "#\treturn s\n",
    "\n",
    "#def clean_json(jsonitem):\n",
    "#\t# para una lista de artiuclos de json, separa en \" y limpia los elementos impares de la lista resultante \n",
    "#\tfor i in range(len(jsonitem)):\n",
    "#\t\tsplitted = split_json(jsonitem[i])\n",
    "#\t\tfor j in range(len(splitted)):\n",
    "#\t\t\tsplitted[j] = str(splitted[j]).replace('None','\"None\"').replace('False','\"False\"').replace('True','\"True\"')\n",
    "#\t\t\tif j % 2 == 1 and len(splitted[j]) < 20:\n",
    "#\t\t\t\tsplitted[j] = '\"' + str(splitted[j]).replace(\"'\",'`') + '\"'\n",
    "#\t\t\telse:\n",
    "#\t\t\t\tsplitted[j] = str(splitted[j]).replace(\"'\",'\"')\n",
    "#\t\tjsonitem[i] = ''.join(splitted)\n",
    "#\t\n",
    "#\treturn jsonitem\n",
    "\n",
    "#def cleanjson(val):\n",
    "#\tresult = str(val).replace('\"',\"`\").replace(': `', \": '\").replace('`,',\"',\").replace('`}',\"'}\").replace(\"e's\",'e`s').replace('\"ll','`ll').replace(\"I'm\", 'I`m').replace(\"i'm\", 'i`m').replace(\"' \",\"` \").replace(\"t's\",\"t`s\").replace('None',\"'None'\").replace(\"'\",'\"')\n",
    "#\treturn result\n",
    "\n",
    "# progress = widgets.IntProgress(\n",
    "# \tvalue=0, \n",
    "# \tmin=0, \n",
    "# \tmax=100, \n",
    "# \tdescription='cargando:',\n",
    "# \tstyle={'bar_color': 'maroon'}) \n",
    "\n",
    "# processed = widgets.BoundedFloatText(\n",
    "#     value=0,\n",
    "#     min=0,\n",
    "#     max=len(topplayer_tag),\n",
    "#     description='procesado:',\n",
    "#     disabled=False\n",
    "# )\n",
    "\n",
    "# display(progress)\n",
    "# display(processed)\n",
    "\n",
    "# for i in range(len(topplayer_tag)):\n",
    "\n",
    "# \tjson_battlelog = {}\n",
    "# \tplayertag = topplayer_tag[i]\n",
    "# \ttry:\n",
    "# \t\tjson_battlelog = client.get_battle_logs(playertag).raw_data\n",
    "# \texcept:\n",
    "# \t\tprint(\"No se pudo recuperar battlelog de tag \" + playertag)\n",
    "\n",
    "# \tfor k in range(len(json_battlelog)):\n",
    "# \t\tloaded_json = json_battlelog[k]\n",
    "# \t\tjson_battlelog[k]['playertag'] = playertag\n",
    "# \t\ttry:\n",
    "# \t\t\tbattlelog = battlelog.append(pd.json_normalize(loaded_json), ignore_index=True)\n",
    "# \t\texcept:\n",
    "# \t\t\tprint(\"no se pudo importar \" + playertag + \" battlelog numero \" + str(k))\n",
    "\n",
    "# \tprogress.value = ((i+1) / len(topplayer_tag)) * 100\n",
    "# \tprocessed.value = i\n"
   ]
  },
  {
   "attachments": {},
   "cell_type": "markdown",
   "metadata": {},
   "source": [
    "## Data Depuration"
   ]
  },
  {
   "cell_type": "code",
   "execution_count": 70,
   "metadata": {},
   "outputs": [],
   "source": [
    "# desglose de dataframe\n",
    "battlelog = pd.merge(left=battlelog, right=pd.json_normalize(battlelog['event']).add_prefix('event.'), left_index=True, right_index=True)\n",
    "battlelog = pd.merge(left=battlelog, right=pd.json_normalize(battlelog['battle']).add_prefix('battle.'), left_index=True, right_index=True)"
   ]
  },
  {
   "cell_type": "code",
   "execution_count": 71,
   "metadata": {},
   "outputs": [
    {
     "name": "stdout",
     "output_type": "stream",
     "text": [
      "dimensiones battlelog: (4880, 26)\n"
     ]
    }
   ],
   "source": [
    "# reset battlelog index\n",
    "battlelog = battlelog.drop('event', axis=1)\n",
    "battlelog = battlelog.drop('battle', axis=1)\n",
    "print('dimensiones battlelog: ' + str(battlelog.shape))"
   ]
  },
  {
   "cell_type": "code",
   "execution_count": 72,
   "metadata": {},
   "outputs": [
    {
     "name": "stdout",
     "output_type": "stream",
     "text": [
      "<class 'pandas.core.frame.DataFrame'>\n",
      "RangeIndex: 4880 entries, 0 to 4879\n",
      "Data columns (total 26 columns):\n",
      " #   Column                              Non-Null Count  Dtype  \n",
      "---  ------                              --------------  -----  \n",
      " 0   battleTime                          4880 non-null   object \n",
      " 1   playertag                           4880 non-null   object \n",
      " 2   event.id                            4880 non-null   int64  \n",
      " 3   event.mode                          4732 non-null   object \n",
      " 4   event.map                           4732 non-null   object \n",
      " 5   battle.mode                         4880 non-null   object \n",
      " 6   battle.type                         4799 non-null   object \n",
      " 7   battle.result                       4034 non-null   object \n",
      " 8   battle.duration                     4051 non-null   float64\n",
      " 9   battle.trophyChange                 3356 non-null   float64\n",
      " 10  battle.teams                        4497 non-null   object \n",
      " 11  battle.starPlayer.tag               3252 non-null   object \n",
      " 12  battle.starPlayer.name              3252 non-null   object \n",
      " 13  battle.starPlayer.brawler.id        3252 non-null   float64\n",
      " 14  battle.starPlayer.brawler.name      3252 non-null   object \n",
      " 15  battle.starPlayer.brawler.power     3252 non-null   float64\n",
      " 16  battle.starPlayer.brawler.trophies  3252 non-null   float64\n",
      " 17  battle.starPlayer                   0 non-null      float64\n",
      " 18  battle.rank                         765 non-null    float64\n",
      " 19  battle.players                      383 non-null    object \n",
      " 20  battle.bigBrawler.tag               81 non-null     object \n",
      " 21  battle.bigBrawler.name              81 non-null     object \n",
      " 22  battle.bigBrawler.brawler.id        81 non-null     float64\n",
      " 23  battle.bigBrawler.brawler.name      81 non-null     object \n",
      " 24  battle.bigBrawler.brawler.power     81 non-null     float64\n",
      " 25  battle.bigBrawler.brawler.trophies  81 non-null     float64\n",
      "dtypes: float64(10), int64(1), object(15)\n",
      "memory usage: 991.4+ KB\n"
     ]
    }
   ],
   "source": [
    "battlelog.info()"
   ]
  },
  {
   "cell_type": "code",
   "execution_count": 73,
   "metadata": {},
   "outputs": [
    {
     "data": {
      "text/plain": [
       "ranked                   3289\n",
       "friendly                  519\n",
       "soloRanked                480\n",
       "teamRanked                448\n",
       "championshipChallenge      58\n",
       "challenge                   5\n",
       "Name: battle.type, dtype: int64"
      ]
     },
     "execution_count": 73,
     "metadata": {},
     "output_type": "execute_result"
    }
   ],
   "source": [
    "# cuenta tipos de juego\n",
    "battlelog['battle.type'].value_counts()"
   ]
  },
  {
   "cell_type": "code",
   "execution_count": 74,
   "metadata": {},
   "outputs": [],
   "source": [
    "# eliminar friendly\n",
    "battlelog = battlelog.loc[battlelog['battle.type'] != \"friendly\"]"
   ]
  },
  {
   "cell_type": "code",
   "execution_count": 75,
   "metadata": {},
   "outputs": [
    {
     "data": {
      "text/plain": [
       "hotZone         1054\n",
       "brawlBall       1033\n",
       "gemGrab          553\n",
       "duoShowdown      463\n",
       "knockout         386\n",
       "soloShowdown     289\n",
       "heist            271\n",
       "bounty           231\n",
       "bigGame           81\n",
       "Name: battle.mode, dtype: int64"
      ]
     },
     "execution_count": 75,
     "metadata": {},
     "output_type": "execute_result"
    }
   ],
   "source": [
    "# cuenta modos de juego\n",
    "battlelog['battle.mode'].value_counts() "
   ]
  },
  {
   "cell_type": "code",
   "execution_count": 76,
   "metadata": {},
   "outputs": [],
   "source": [
    "# eliminar modos alt y modos showdown\n",
    "modos_alt = ['bossFight','roboRumble','bigGame','soloShowdown','duoShowdown']\n",
    "battlelog = battlelog.loc[~battlelog['battle.mode'].isin(modos_alt)]"
   ]
  },
  {
   "cell_type": "code",
   "execution_count": 77,
   "metadata": {},
   "outputs": [],
   "source": [
    "# eliminar event vacio\n",
    "battlelog['event.mode'] = battlelog['event.mode'].fillna('unknown')\n",
    "battlelog = battlelog.loc[battlelog['event.mode'] != \"unknown\"]"
   ]
  },
  {
   "cell_type": "code",
   "execution_count": 78,
   "metadata": {},
   "outputs": [],
   "source": [
    "# eliminar map vacio\n",
    "battlelog['event.map'] = battlelog['event.map'].fillna('unknown')\n",
    "battlelog = battlelog.loc[battlelog['event.map'] != \"unknown\"]"
   ]
  },
  {
   "cell_type": "code",
   "execution_count": 79,
   "metadata": {},
   "outputs": [
    {
     "name": "stdout",
     "output_type": "stream",
     "text": [
      "dimensiones battlelog: (3476, 26)\n"
     ]
    }
   ],
   "source": [
    "# reset battlelog index\n",
    "battlelog.reset_index(drop=True, inplace=True)\n",
    "\n",
    "print('dimensiones battlelog: ' + str(battlelog.shape))"
   ]
  },
  {
   "cell_type": "code",
   "execution_count": 80,
   "metadata": {},
   "outputs": [],
   "source": [
    "# player = {}\n",
    "\n",
    "# npl = top_player['tag'][0:100].to_list()\n",
    "\n",
    "# for i, playertag in enumerate(npl):\n",
    "# \tprofile = client.get_profile(playertag)\n",
    "# \tplayer[str(i)] = {\n",
    "# \t\t'tag': playertag, \n",
    "# \t\t'team_victories': profile.team_victories, \n",
    "# \t\t'highestTrophies': profile.highest_trophies, \n",
    "# \t\t'expPoints': profile.exp_points, \n",
    "# \t\t'trophies': profile.trophies,\n",
    "# \t\t'datetime': datetime.datetime.now()\n",
    "# \t\t}\n",
    "\n",
    "# players = pd.DataFrame.from_dict(player, orient='index').reset_index(drop=True)\n",
    "# players"
   ]
  },
  {
   "cell_type": "code",
   "execution_count": 81,
   "metadata": {},
   "outputs": [
    {
     "name": "stdout",
     "output_type": "stream",
     "text": [
      "<class 'pandas.core.frame.DataFrame'>\n",
      "RangeIndex: 3476 entries, 0 to 3475\n",
      "Data columns (total 62 columns):\n",
      " #   Column                                 Non-Null Count  Dtype  \n",
      "---  ------                                 --------------  -----  \n",
      " 0   battleTime                             3476 non-null   object \n",
      " 1   playertag                              3476 non-null   object \n",
      " 2   event.id                               3476 non-null   int64  \n",
      " 3   event.mode                             3476 non-null   object \n",
      " 4   event.map                              3476 non-null   object \n",
      " 5   battle.mode                            3476 non-null   object \n",
      " 6   battle.type                            3476 non-null   object \n",
      " 7   battle.result                          3476 non-null   object \n",
      " 8   battle.duration                        3476 non-null   float64\n",
      " 9   battle.trophyChange                    2655 non-null   float64\n",
      " 10  battle.teams                           3476 non-null   object \n",
      " 11  battle.starPlayer.tag                  2954 non-null   object \n",
      " 12  battle.starPlayer.name                 2954 non-null   object \n",
      " 13  battle.starPlayer.brawler.id           2954 non-null   float64\n",
      " 14  battle.starPlayer.brawler.name         2954 non-null   object \n",
      " 15  battle.starPlayer.brawler.power        2954 non-null   float64\n",
      " 16  battle.starPlayer.brawler.trophies     2954 non-null   float64\n",
      " 17  battle.starPlayer                      0 non-null      float64\n",
      " 18  battle.rank                            0 non-null      float64\n",
      " 19  battle.players                         0 non-null      object \n",
      " 20  battle.bigBrawler.tag                  0 non-null      object \n",
      " 21  battle.bigBrawler.name                 0 non-null      object \n",
      " 22  battle.bigBrawler.brawler.id           0 non-null      float64\n",
      " 23  battle.bigBrawler.brawler.name         0 non-null      object \n",
      " 24  battle.bigBrawler.brawler.power        0 non-null      float64\n",
      " 25  battle.bigBrawler.brawler.trophies     0 non-null      float64\n",
      " 26  battle.team1.player1.tag               3476 non-null   object \n",
      " 27  battle.team1.player1.name              3476 non-null   object \n",
      " 28  battle.team1.player1.brawler.id        3476 non-null   float64\n",
      " 29  battle.team1.player1.brawler.name      3476 non-null   object \n",
      " 30  battle.team1.player1.brawler.power     3476 non-null   float64\n",
      " 31  battle.team1.player1.brawler.trophies  3476 non-null   float64\n",
      " 32  battle.team1.player2.tag               3476 non-null   object \n",
      " 33  battle.team1.player2.name              3476 non-null   object \n",
      " 34  battle.team1.player2.brawler.id        3476 non-null   float64\n",
      " 35  battle.team1.player2.brawler.name      3476 non-null   object \n",
      " 36  battle.team1.player2.brawler.power     3476 non-null   float64\n",
      " 37  battle.team1.player2.brawler.trophies  3476 non-null   float64\n",
      " 38  battle.team1.player3.tag               3476 non-null   object \n",
      " 39  battle.team1.player3.name              3476 non-null   object \n",
      " 40  battle.team1.player3.brawler.id        3476 non-null   float64\n",
      " 41  battle.team1.player3.brawler.name      3476 non-null   object \n",
      " 42  battle.team1.player3.brawler.power     3476 non-null   float64\n",
      " 43  battle.team1.player3.brawler.trophies  3476 non-null   float64\n",
      " 44  battle.team2.player1.tag               3476 non-null   object \n",
      " 45  battle.team2.player1.name              3476 non-null   object \n",
      " 46  battle.team2.player1.brawler.id        3476 non-null   float64\n",
      " 47  battle.team2.player1.brawler.name      3476 non-null   object \n",
      " 48  battle.team2.player1.brawler.power     3476 non-null   float64\n",
      " 49  battle.team2.player1.brawler.trophies  3476 non-null   float64\n",
      " 50  battle.team2.player2.tag               3476 non-null   object \n",
      " 51  battle.team2.player2.name              3476 non-null   object \n",
      " 52  battle.team2.player2.brawler.id        3476 non-null   float64\n",
      " 53  battle.team2.player2.brawler.name      3476 non-null   object \n",
      " 54  battle.team2.player2.brawler.power     3476 non-null   float64\n",
      " 55  battle.team2.player2.brawler.trophies  3476 non-null   float64\n",
      " 56  battle.team2.player3.tag               3476 non-null   object \n",
      " 57  battle.team2.player3.name              3476 non-null   object \n",
      " 58  battle.team2.player3.brawler.id        3476 non-null   float64\n",
      " 59  battle.team2.player3.brawler.name      3476 non-null   object \n",
      " 60  battle.team2.player3.brawler.power     3476 non-null   float64\n",
      " 61  battle.team2.player3.brawler.trophies  3476 non-null   float64\n",
      "dtypes: float64(28), int64(1), object(33)\n",
      "memory usage: 1.6+ MB\n"
     ]
    }
   ],
   "source": [
    "# descomponer la columna teams\n",
    "\n",
    "# def battle_delimiter(i, j):\n",
    "# \tresult = pd.json_normalize(pd.json_normalize(pd.json_normalize(pd.json_normalize(rawdata['battle'])['teams'])[i])[j])\n",
    "# \treturn result\n",
    "\n",
    "def normalize_to_df(i, t, p):\n",
    "\tbattlelog.loc[i,'battle.team' + str(t) + '.player' + str(p) + '.tag'] = normalized[t - 1][p - 1]['tag']\n",
    "\tbattlelog.loc[i,'battle.team' + str(t) + '.player' + str(p) + '.name'] = normalized[t - 1][p - 1]['name']\n",
    "\tbattlelog.loc[i,'battle.team' + str(t) + '.player' + str(p) + '.brawler.id'] = normalized[t - 1][p - 1]['brawler.id']\n",
    "\tbattlelog.loc[i,'battle.team' + str(t) + '.player' + str(p) + '.brawler.name'] = normalized[t - 1][p - 1]['brawler.name']\n",
    "\tbattlelog.loc[i,'battle.team' + str(t) + '.player' + str(p) + '.brawler.power'] = normalized[t - 1][p - 1]['brawler.power']\n",
    "\tbattlelog.loc[i,'battle.team' + str(t) + '.player' + str(p) + '.brawler.trophies'] = normalized[t - 1][p - 1]['brawler.trophies']\n",
    "\n",
    "normalized = pd.DataFrame()\n",
    "\n",
    "for i, team in enumerate(battlelog['battle.teams']):\n",
    "\tif team != None:\n",
    "\t\ttry:\n",
    "\t\t\tnormalized = pd.json_normalize(team, errors='ignore').transpose()\n",
    "\t\t\tnormalize_to_df(i, 1, 1)\n",
    "\t\t\tnormalize_to_df(i, 1, 2)\n",
    "\t\t\tnormalize_to_df(i, 1, 3)\n",
    "\t\t\tnormalize_to_df(i, 2, 1)\n",
    "\t\t\tnormalize_to_df(i, 2, 2)\n",
    "\t\t\tnormalize_to_df(i, 2, 3)\n",
    "\t\texcept:\n",
    "\t\t\tprint(\"no se pudo transponer\")\n",
    "\n",
    "battlelog.info()"
   ]
  },
  {
   "cell_type": "code",
   "execution_count": 82,
   "metadata": {},
   "outputs": [
    {
     "data": {
      "text/plain": [
       "(7401,)"
      ]
     },
     "execution_count": 82,
     "metadata": {},
     "output_type": "execute_result"
    }
   ],
   "source": [
    "# define tags\n",
    "tags = pd.concat([\n",
    "\tbattlelog['battle.team1.player1.tag']\n",
    "\t,battlelog['battle.team1.player2.tag']\n",
    "\t,battlelog['battle.team1.player3.tag']\n",
    "\t,battlelog['battle.team2.player1.tag']\n",
    "\t,battlelog['battle.team2.player2.tag']\n",
    "\t,battlelog['battle.team2.player3.tag']])\n",
    "tags = tags.drop_duplicates().reset_index(drop=True)\n",
    "tags.shape"
   ]
  },
  {
   "cell_type": "code",
   "execution_count": 83,
   "metadata": {},
   "outputs": [
    {
     "data": {
      "application/vnd.jupyter.widget-view+json": {
       "model_id": "c39d2b720af64d958620626ca2d281a3",
       "version_major": 2,
       "version_minor": 0
      },
      "text/plain": [
       "  0%|          | 0/7401 [00:00<?, ?it/s]"
      ]
     },
     "metadata": {},
     "output_type": "display_data"
    }
   ],
   "source": [
    "# import players dataset\n",
    "player = {}\n",
    "\n",
    "top_player_list = tags.to_list()\n",
    "\n",
    "def get_profile(playertag):\n",
    "\tprofile = client.get_profile(playertag)\n",
    "\treturn {\n",
    "\t\t'tag': playertag, \n",
    "\t\t'team_victories': profile.team_victories, \n",
    "\t\t'highestTrophies': profile.highest_trophies, \n",
    "\t\t'expPoints': profile.exp_points, \n",
    "\t\t'trophies': profile.trophies,\n",
    "\t\t'datetime': datetime.datetime.now()\n",
    "\t\t}\n",
    "\n",
    "with cf.ThreadPoolExecutor(max_workers=40) as executor:\n",
    "\tfuture_to_player = {executor.submit(get_profile, playertag): playertag for playertag in top_player_list}\n",
    "\tfor future in tqdm(cf.as_completed(future_to_player), total = len(top_player_list), colour='brown'):\n",
    "\t\ttry:\n",
    "\t\t\ti = top_player_list.index(future_to_player[future])\n",
    "\t\t\tplayer[str(i)] = future.result()\n",
    "\t\texcept:\n",
    "\t\t\tpass\n",
    "\n",
    "players = pd.DataFrame.from_dict(player, orient='index').reset_index(drop=True)\n"
   ]
  },
  {
   "cell_type": "code",
   "execution_count": 84,
   "metadata": {},
   "outputs": [
    {
     "name": "stdout",
     "output_type": "stream",
     "text": [
      "dimensiones players hist: (819335, 6)\n"
     ]
    }
   ],
   "source": [
    "# importar historico de players\n",
    "players_hist = pd.read_parquet('datasets/players/players.parquet')\n",
    "\n",
    "print('dimensiones players hist: ' + str(players_hist.shape))"
   ]
  },
  {
   "cell_type": "code",
   "execution_count": 85,
   "metadata": {},
   "outputs": [
    {
     "name": "stdout",
     "output_type": "stream",
     "text": [
      "dimensiones players: (819620, 6)\n"
     ]
    }
   ],
   "source": [
    "# concatenar las bases\n",
    "players = pd.concat([players_hist, players], ignore_index=True) \\\n",
    "\t.drop_duplicates(subset='tag', keep='last') \\\n",
    "\t.reset_index(drop=True)\n",
    "\n",
    "print('dimensiones players: ' + str(players.shape))"
   ]
  },
  {
   "cell_type": "code",
   "execution_count": 86,
   "metadata": {},
   "outputs": [],
   "source": [
    "# export players\n",
    "# players.to_csv('datasets/players/players.csv')\n",
    "players.to_parquet('datasets/players/players.parquet', index=False, engine='fastparquet', compression='gzip')"
   ]
  },
  {
   "cell_type": "code",
   "execution_count": 87,
   "metadata": {},
   "outputs": [],
   "source": [
    "# fix column names\n",
    "battlelog.columns = battlelog.columns.str.replace('.', '_', regex=True)"
   ]
  },
  {
   "cell_type": "code",
   "execution_count": 88,
   "metadata": {},
   "outputs": [],
   "source": [
    "# select columns\n",
    "battlelog = battlelog[[\n",
    "'battleTime'\n",
    ",'playertag'\n",
    ",'event_mode'\n",
    ",'event_map'\n",
    ",'battle_type'\n",
    ",'battle_result'\n",
    ",'battle_duration'\n",
    ",'battle_trophyChange'\n",
    ",'battle_team1_player1_tag'\n",
    ",'battle_team1_player1_name'\n",
    ",'battle_team1_player1_brawler_id'\n",
    ",'battle_team1_player1_brawler_name'\n",
    ",'battle_team1_player1_brawler_power'\n",
    ",'battle_team1_player1_brawler_trophies'\n",
    ",'battle_team1_player2_tag'\n",
    ",'battle_team1_player2_name'\n",
    ",'battle_team1_player2_brawler_id'\n",
    ",'battle_team1_player2_brawler_name'\n",
    ",'battle_team1_player2_brawler_power'\n",
    ",'battle_team1_player2_brawler_trophies'\n",
    ",'battle_team1_player3_tag'\n",
    ",'battle_team1_player3_name'\n",
    ",'battle_team1_player3_brawler_id'\n",
    ",'battle_team1_player3_brawler_name'\n",
    ",'battle_team1_player3_brawler_power'\n",
    ",'battle_team1_player3_brawler_trophies'\n",
    ",'battle_team2_player1_tag'\n",
    ",'battle_team2_player1_name'\n",
    ",'battle_team2_player1_brawler_id'\n",
    ",'battle_team2_player1_brawler_name'\n",
    ",'battle_team2_player1_brawler_power'\n",
    ",'battle_team2_player1_brawler_trophies'\n",
    ",'battle_team2_player2_tag'\n",
    ",'battle_team2_player2_name'\n",
    ",'battle_team2_player2_brawler_id'\n",
    ",'battle_team2_player2_brawler_name'\n",
    ",'battle_team2_player2_brawler_power'\n",
    ",'battle_team2_player2_brawler_trophies'\n",
    ",'battle_team2_player3_tag'\n",
    ",'battle_team2_player3_name'\n",
    ",'battle_team2_player3_brawler_id'\n",
    ",'battle_team2_player3_brawler_name'\n",
    ",'battle_team2_player3_brawler_power'\n",
    ",'battle_team2_player3_brawler_trophies'\n",
    "]]"
   ]
  },
  {
   "cell_type": "code",
   "execution_count": 89,
   "metadata": {},
   "outputs": [
    {
     "name": "stdout",
     "output_type": "stream",
     "text": [
      "dimensiones battlelog hist: (753306, 44)\n"
     ]
    }
   ],
   "source": [
    "# traer archivo histórico battlelog\n",
    "# with zipfile.ZipFile('datasets/teams/battlelog_teams.zip', 'r') as zip_ref:\n",
    "    # zip_ref.extractall('datasets/teams/')\n",
    "    \n",
    "battlelog_hist = pd.read_parquet('datasets/teams/battlelog_teams.parquet')\n",
    "\n",
    "print('dimensiones battlelog hist: ' + str(battlelog_hist.shape))"
   ]
  },
  {
   "cell_type": "code",
   "execution_count": 90,
   "metadata": {},
   "outputs": [
    {
     "name": "stdout",
     "output_type": "stream",
     "text": [
      "dimensiones battlelog concat: (756782, 44)\n"
     ]
    }
   ],
   "source": [
    "# agregar nuevos reg a histórico\n",
    "battlelog = pd.concat([battlelog, battlelog_hist])\n",
    "print('dimensiones battlelog concat: ' + str(battlelog.shape))"
   ]
  },
  {
   "cell_type": "code",
   "execution_count": 91,
   "metadata": {},
   "outputs": [
    {
     "name": "stdout",
     "output_type": "stream",
     "text": [
      "dimensiones battlelog final: (693410, 44)\n"
     ]
    }
   ],
   "source": [
    "# eliminar battelogs duplicados\n",
    "battlelog = battlelog.drop_duplicates(['battleTime', 'event_mode', 'event_map', 'battle_type', 'battle_duration', 'battle_team1_player1_tag'], ignore_index=True)\n",
    "\n",
    "print('dimensiones battlelog final: ' + str(battlelog.shape))"
   ]
  },
  {
   "cell_type": "code",
   "execution_count": 92,
   "metadata": {},
   "outputs": [
    {
     "name": "stdout",
     "output_type": "stream",
     "text": [
      "<class 'pandas.core.frame.DataFrame'>\n",
      "RangeIndex: 693410 entries, 0 to 693409\n",
      "Data columns (total 44 columns):\n",
      " #   Column                                 Non-Null Count   Dtype  \n",
      "---  ------                                 --------------   -----  \n",
      " 0   battleTime                             693410 non-null  object \n",
      " 1   playertag                              693410 non-null  object \n",
      " 2   event_mode                             693410 non-null  object \n",
      " 3   event_map                              693410 non-null  object \n",
      " 4   battle_type                            693410 non-null  object \n",
      " 5   battle_result                          693410 non-null  object \n",
      " 6   battle_duration                        693410 non-null  Float64\n",
      " 7   battle_trophyChange                    524221 non-null  Float64\n",
      " 8   battle_team1_player1_tag               693410 non-null  object \n",
      " 9   battle_team1_player1_name              693408 non-null  object \n",
      " 10  battle_team1_player1_brawler_id        693410 non-null  Float64\n",
      " 11  battle_team1_player1_brawler_name      693410 non-null  object \n",
      " 12  battle_team1_player1_brawler_power     693410 non-null  Float64\n",
      " 13  battle_team1_player1_brawler_trophies  693410 non-null  Float64\n",
      " 14  battle_team1_player2_tag               693410 non-null  object \n",
      " 15  battle_team1_player2_name              693404 non-null  object \n",
      " 16  battle_team1_player2_brawler_id        693410 non-null  Float64\n",
      " 17  battle_team1_player2_brawler_name      693410 non-null  object \n",
      " 18  battle_team1_player2_brawler_power     693410 non-null  Float64\n",
      " 19  battle_team1_player2_brawler_trophies  693410 non-null  Float64\n",
      " 20  battle_team1_player3_tag               693410 non-null  object \n",
      " 21  battle_team1_player3_name              693407 non-null  object \n",
      " 22  battle_team1_player3_brawler_id        693410 non-null  Float64\n",
      " 23  battle_team1_player3_brawler_name      693410 non-null  object \n",
      " 24  battle_team1_player3_brawler_power     693410 non-null  Float64\n",
      " 25  battle_team1_player3_brawler_trophies  693410 non-null  Float64\n",
      " 26  battle_team2_player1_tag               693410 non-null  object \n",
      " 27  battle_team2_player1_name              693409 non-null  object \n",
      " 28  battle_team2_player1_brawler_id        693410 non-null  Float64\n",
      " 29  battle_team2_player1_brawler_name      693410 non-null  object \n",
      " 30  battle_team2_player1_brawler_power     693410 non-null  Float64\n",
      " 31  battle_team2_player1_brawler_trophies  693410 non-null  Float64\n",
      " 32  battle_team2_player2_tag               693410 non-null  object \n",
      " 33  battle_team2_player2_name              693406 non-null  object \n",
      " 34  battle_team2_player2_brawler_id        693410 non-null  Float64\n",
      " 35  battle_team2_player2_brawler_name      693410 non-null  object \n",
      " 36  battle_team2_player2_brawler_power     693410 non-null  Float64\n",
      " 37  battle_team2_player2_brawler_trophies  693410 non-null  Float64\n",
      " 38  battle_team2_player3_tag               693410 non-null  object \n",
      " 39  battle_team2_player3_name              693408 non-null  object \n",
      " 40  battle_team2_player3_brawler_id        693410 non-null  Float64\n",
      " 41  battle_team2_player3_brawler_name      693410 non-null  object \n",
      " 42  battle_team2_player3_brawler_power     693410 non-null  Float64\n",
      " 43  battle_team2_player3_brawler_trophies  693410 non-null  Float64\n",
      "dtypes: Float64(20), object(24)\n",
      "memory usage: 246.0+ MB\n"
     ]
    }
   ],
   "source": [
    "# set correct dtypes\n",
    "battlelog.info()"
   ]
  },
  {
   "cell_type": "code",
   "execution_count": 93,
   "metadata": {},
   "outputs": [
    {
     "name": "stdout",
     "output_type": "stream",
     "text": [
      "<class 'pandas.core.frame.DataFrame'>\n",
      "RangeIndex: 693410 entries, 0 to 693409\n",
      "Data columns (total 44 columns):\n",
      " #   Column                                 Non-Null Count   Dtype         \n",
      "---  ------                                 --------------   -----         \n",
      " 0   battleTime                             693410 non-null  datetime64[ns]\n",
      " 1   playertag                              693410 non-null  object        \n",
      " 2   event_mode                             693410 non-null  object        \n",
      " 3   event_map                              693410 non-null  object        \n",
      " 4   battle_type                            693410 non-null  object        \n",
      " 5   battle_result                          693410 non-null  object        \n",
      " 6   battle_duration                        693410 non-null  Int16         \n",
      " 7   battle_trophyChange                    524221 non-null  Int8          \n",
      " 8   battle_team1_player1_tag               693410 non-null  object        \n",
      " 9   battle_team1_player1_name              693408 non-null  object        \n",
      " 10  battle_team1_player1_brawler_id        693410 non-null  Int32         \n",
      " 11  battle_team1_player1_brawler_name      693410 non-null  object        \n",
      " 12  battle_team1_player1_brawler_power     693410 non-null  Int8          \n",
      " 13  battle_team1_player1_brawler_trophies  693410 non-null  Int16         \n",
      " 14  battle_team1_player2_tag               693410 non-null  object        \n",
      " 15  battle_team1_player2_name              693404 non-null  object        \n",
      " 16  battle_team1_player2_brawler_id        693410 non-null  Int32         \n",
      " 17  battle_team1_player2_brawler_name      693410 non-null  object        \n",
      " 18  battle_team1_player2_brawler_power     693410 non-null  Int8          \n",
      " 19  battle_team1_player2_brawler_trophies  693410 non-null  Int16         \n",
      " 20  battle_team1_player3_tag               693410 non-null  object        \n",
      " 21  battle_team1_player3_name              693407 non-null  object        \n",
      " 22  battle_team1_player3_brawler_id        693410 non-null  Int32         \n",
      " 23  battle_team1_player3_brawler_name      693410 non-null  object        \n",
      " 24  battle_team1_player3_brawler_power     693410 non-null  Int8          \n",
      " 25  battle_team1_player3_brawler_trophies  693410 non-null  Int16         \n",
      " 26  battle_team2_player1_tag               693410 non-null  object        \n",
      " 27  battle_team2_player1_name              693409 non-null  object        \n",
      " 28  battle_team2_player1_brawler_id        693410 non-null  Int32         \n",
      " 29  battle_team2_player1_brawler_name      693410 non-null  object        \n",
      " 30  battle_team2_player1_brawler_power     693410 non-null  Int8          \n",
      " 31  battle_team2_player1_brawler_trophies  693410 non-null  Int16         \n",
      " 32  battle_team2_player2_tag               693410 non-null  object        \n",
      " 33  battle_team2_player2_name              693406 non-null  object        \n",
      " 34  battle_team2_player2_brawler_id        693410 non-null  Int32         \n",
      " 35  battle_team2_player2_brawler_name      693410 non-null  object        \n",
      " 36  battle_team2_player2_brawler_power     693410 non-null  Int8          \n",
      " 37  battle_team2_player2_brawler_trophies  693410 non-null  Int16         \n",
      " 38  battle_team2_player3_tag               693410 non-null  object        \n",
      " 39  battle_team2_player3_name              693408 non-null  object        \n",
      " 40  battle_team2_player3_brawler_id        693410 non-null  Int32         \n",
      " 41  battle_team2_player3_brawler_name      693410 non-null  object        \n",
      " 42  battle_team2_player3_brawler_power     693410 non-null  Int8          \n",
      " 43  battle_team2_player3_brawler_trophies  693410 non-null  Int16         \n",
      "dtypes: Int16(7), Int32(6), Int8(7), datetime64[ns](1), object(23)\n",
      "memory usage: 170.0+ MB\n"
     ]
    }
   ],
   "source": [
    "# assign correct dtypes\n",
    "battlelog['battleTime'] = pd.to_datetime(battlelog['battleTime'], format='%Y-%m-%d').dt.date.astype('datetime64[ns]')\n",
    "battlelog['battle_duration'] = battlelog['battle_duration'].astype('Int16')\n",
    "battlelog['battle_trophyChange'] = battlelog['battle_trophyChange'].astype('Int8')\n",
    "battlelog['battle_team1_player1_brawler_id'] = battlelog['battle_team1_player1_brawler_id'].astype('Int32')\n",
    "battlelog['battle_team1_player1_brawler_power'] = battlelog['battle_team1_player1_brawler_power'].astype('Int8')\n",
    "battlelog['battle_team1_player1_brawler_trophies'] = battlelog['battle_team1_player1_brawler_trophies'].astype('Int16')\n",
    "battlelog['battle_team1_player2_brawler_id'] = battlelog['battle_team1_player2_brawler_id'].astype('Int32')\n",
    "battlelog['battle_team1_player2_brawler_power'] = battlelog['battle_team1_player2_brawler_power'].astype('Int8')\n",
    "battlelog['battle_team1_player2_brawler_trophies'] = battlelog['battle_team1_player2_brawler_trophies'].astype('Int16')\n",
    "battlelog['battle_team1_player3_brawler_id'] = battlelog['battle_team1_player3_brawler_id'].astype('Int32')\n",
    "battlelog['battle_team1_player3_brawler_power'] = battlelog['battle_team1_player3_brawler_power'].astype('Int8')\n",
    "battlelog['battle_team1_player3_brawler_trophies'] = battlelog['battle_team1_player3_brawler_trophies'].astype('Int16')\n",
    "battlelog['battle_team2_player1_brawler_id'] = battlelog['battle_team2_player1_brawler_id'].astype('Int32')\n",
    "battlelog['battle_team2_player1_brawler_power'] = battlelog['battle_team2_player1_brawler_power'].astype('Int8')\n",
    "battlelog['battle_team2_player1_brawler_trophies'] = battlelog['battle_team2_player1_brawler_trophies'].astype('Int16')\n",
    "battlelog['battle_team2_player2_brawler_id'] = battlelog['battle_team2_player2_brawler_id'].astype('Int32')\n",
    "battlelog['battle_team2_player2_brawler_power'] = battlelog['battle_team2_player2_brawler_power'].astype('Int8')\n",
    "battlelog['battle_team2_player2_brawler_trophies'] = battlelog['battle_team2_player2_brawler_trophies'].astype('Int16')\n",
    "battlelog['battle_team2_player3_brawler_id'] = battlelog['battle_team2_player3_brawler_id'].astype('Int32')\n",
    "battlelog['battle_team2_player3_brawler_power'] = battlelog['battle_team2_player3_brawler_power'].astype('Int8')\n",
    "battlelog['battle_team2_player3_brawler_trophies'] = battlelog['battle_team2_player3_brawler_trophies'].astype('Int16')\n",
    "\n",
    "battlelog.info()"
   ]
  },
  {
   "cell_type": "code",
   "execution_count": 94,
   "metadata": {},
   "outputs": [
    {
     "name": "stdout",
     "output_type": "stream",
     "text": [
      "<class 'pandas.core.frame.DataFrame'>\n",
      "RangeIndex: 693410 entries, 0 to 693409\n",
      "Data columns (total 44 columns):\n",
      " #   Column                                 Non-Null Count   Dtype         \n",
      "---  ------                                 --------------   -----         \n",
      " 0   battleTime                             693410 non-null  datetime64[ns]\n",
      " 1   playertag                              693410 non-null  object        \n",
      " 2   event_mode                             693410 non-null  category      \n",
      " 3   event_map                              693410 non-null  category      \n",
      " 4   battle_type                            693410 non-null  category      \n",
      " 5   battle_result                          693410 non-null  category      \n",
      " 6   battle_duration                        693410 non-null  Int16         \n",
      " 7   battle_trophyChange                    524221 non-null  Int8          \n",
      " 8   battle_team1_player1_tag               693410 non-null  object        \n",
      " 9   battle_team1_player1_name              693408 non-null  object        \n",
      " 10  battle_team1_player1_brawler_id        693410 non-null  Int32         \n",
      " 11  battle_team1_player1_brawler_name      693410 non-null  category      \n",
      " 12  battle_team1_player1_brawler_power     693410 non-null  Int8          \n",
      " 13  battle_team1_player1_brawler_trophies  693410 non-null  Int16         \n",
      " 14  battle_team1_player2_tag               693410 non-null  object        \n",
      " 15  battle_team1_player2_name              693404 non-null  object        \n",
      " 16  battle_team1_player2_brawler_id        693410 non-null  Int32         \n",
      " 17  battle_team1_player2_brawler_name      693410 non-null  category      \n",
      " 18  battle_team1_player2_brawler_power     693410 non-null  Int8          \n",
      " 19  battle_team1_player2_brawler_trophies  693410 non-null  Int16         \n",
      " 20  battle_team1_player3_tag               693410 non-null  object        \n",
      " 21  battle_team1_player3_name              693407 non-null  object        \n",
      " 22  battle_team1_player3_brawler_id        693410 non-null  Int32         \n",
      " 23  battle_team1_player3_brawler_name      693410 non-null  category      \n",
      " 24  battle_team1_player3_brawler_power     693410 non-null  Int8          \n",
      " 25  battle_team1_player3_brawler_trophies  693410 non-null  Int16         \n",
      " 26  battle_team2_player1_tag               693410 non-null  object        \n",
      " 27  battle_team2_player1_name              693409 non-null  object        \n",
      " 28  battle_team2_player1_brawler_id        693410 non-null  Int32         \n",
      " 29  battle_team2_player1_brawler_name      693410 non-null  category      \n",
      " 30  battle_team2_player1_brawler_power     693410 non-null  Int8          \n",
      " 31  battle_team2_player1_brawler_trophies  693410 non-null  Int16         \n",
      " 32  battle_team2_player2_tag               693410 non-null  object        \n",
      " 33  battle_team2_player2_name              693406 non-null  object        \n",
      " 34  battle_team2_player2_brawler_id        693410 non-null  Int32         \n",
      " 35  battle_team2_player2_brawler_name      693410 non-null  category      \n",
      " 36  battle_team2_player2_brawler_power     693410 non-null  Int8          \n",
      " 37  battle_team2_player2_brawler_trophies  693410 non-null  Int16         \n",
      " 38  battle_team2_player3_tag               693410 non-null  object        \n",
      " 39  battle_team2_player3_name              693408 non-null  object        \n",
      " 40  battle_team2_player3_brawler_id        693410 non-null  Int32         \n",
      " 41  battle_team2_player3_brawler_name      693410 non-null  category      \n",
      " 42  battle_team2_player3_brawler_power     693410 non-null  Int8          \n",
      " 43  battle_team2_player3_brawler_trophies  693410 non-null  Int16         \n",
      "dtypes: Int16(7), Int32(6), Int8(7), category(10), datetime64[ns](1), object(13)\n",
      "memory usage: 123.7+ MB\n"
     ]
    }
   ],
   "source": [
    "# assign category dtypes\n",
    "battlelog['battle_team1_player1_brawler_name'] = battlelog['battle_team1_player1_brawler_name'].astype('category')\n",
    "battlelog['battle_team1_player2_brawler_name'] = battlelog['battle_team1_player2_brawler_name'].astype('category')\n",
    "battlelog['battle_team1_player3_brawler_name'] = battlelog['battle_team1_player3_brawler_name'].astype('category')\n",
    "battlelog['battle_team2_player1_brawler_name'] = battlelog['battle_team2_player1_brawler_name'].astype('category')\n",
    "battlelog['battle_team2_player2_brawler_name'] = battlelog['battle_team2_player2_brawler_name'].astype('category')\n",
    "battlelog['battle_team2_player3_brawler_name'] = battlelog['battle_team2_player3_brawler_name'].astype('category')\n",
    "battlelog['event_mode'] = battlelog['event_mode'].astype('category')\n",
    "battlelog['event_map'] = battlelog['event_map'].astype('category')\n",
    "battlelog['battle_type'] = battlelog['battle_type'].astype('category')\n",
    "battlelog['battle_result'] = battlelog['battle_result'].astype('category')\n",
    "\n",
    "battlelog.info()"
   ]
  },
  {
   "cell_type": "code",
   "execution_count": 95,
   "metadata": {},
   "outputs": [],
   "source": [
    "# export dataset teams completo mas histórico\n",
    "battlelog.to_parquet('datasets/teams/battlelog_teams.parquet', index=False, engine='fastparquet', compression='gzip')\n",
    "\n",
    "# Comprimir el archivo parquet\n",
    "# with zipfile.ZipFile('datasets/teams/battlelog_teams.zip', 'w') as zip_file:\n",
    "#     zip_file.write('datasets/teams/battlelog_teams.parquet', arcname='battlelog_teams.parquet',compress_type=zipfile.ZIP_BZIP2)\n",
    "\n",
    "# os.remove('datasets/teams/battlelog_teams.parquet')"
   ]
  },
  {
   "cell_type": "code",
   "execution_count": 96,
   "metadata": {},
   "outputs": [],
   "source": [
    "maplist = battlelog[['event_mode','event_map']].drop_duplicates()\n",
    "\n",
    "maplist.to_parquet('datasets/maps/maplist.parquet', index=False)"
   ]
  }
 ],
 "metadata": {
  "kernelspec": {
   "display_name": "Python 3",
   "language": "python",
   "name": "python3"
  },
  "language_info": {
   "codemirror_mode": {
    "name": "ipython",
    "version": 3
   },
   "file_extension": ".py",
   "mimetype": "text/x-python",
   "name": "python",
   "nbconvert_exporter": "python",
   "pygments_lexer": "ipython3",
   "version": "3.11.0"
  },
  "orig_nbformat": 4,
  "vscode": {
   "interpreter": {
    "hash": "4b0513afd20a5cc577fca9da950d42d1e3c742e55e08a19f57b01f1278df70cd"
   }
  }
 },
 "nbformat": 4,
 "nbformat_minor": 2
}
