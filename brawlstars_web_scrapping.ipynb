{
 "cells": [
  {
   "cell_type": "code",
   "execution_count": 1,
   "metadata": {},
   "outputs": [],
   "source": [
    "import requests_html\n",
    "from requests_html import HTMLSession\n",
    "import pandas as pd\n",
    "from urllib import request"
   ]
  },
  {
   "cell_type": "code",
   "execution_count": 2,
   "metadata": {},
   "outputs": [
    {
     "name": "stdout",
     "output_type": "stream",
     "text": [
      "<class 'pandas.core.frame.DataFrame'>\n",
      "Int64Index: 64 entries, 0 to 63\n",
      "Data columns (total 4 columns):\n",
      " #   Column      Non-Null Count  Dtype \n",
      "---  ------      --------------  ----- \n",
      " 0   id          64 non-null     int64 \n",
      " 1   name        64 non-null     object\n",
      " 2   starPowers  64 non-null     object\n",
      " 3   gadgets     64 non-null     object\n",
      "dtypes: int64(1), object(3)\n",
      "memory usage: 2.5+ KB\n"
     ]
    }
   ],
   "source": [
    "# import brawlers\n",
    "brawlers = pd.read_csv('datasets/brawlers/brawlers.csv', index_col=0)\n",
    "brawlers.info()"
   ]
  },
  {
   "cell_type": "code",
   "execution_count": 71,
   "metadata": {},
   "outputs": [],
   "source": [
    "# import brawler avatar icons\n",
    "for i, brawler in enumerate(brawlers['name']):\n",
    "\tbrawler = brawler.lower().replace(' ','_').replace('.','_')\n",
    "\turl = 'https://media.brawltime.ninja/brawlers/' + brawler + '/avatar.webp'\n",
    "\tlocal = 'resources/brawler_icons/avatar/' + brawler + '.png'\n",
    "\topener=request.build_opener()\n",
    "\topener.addheaders=[('User-Agent','Mozilla/5.0 (Windows NT 6.1; WOW64) AppleWebKit/537.36 (KHTML, like Gecko) Chrome/36.0.1941.0 Safari/537.36')]\n",
    "\trequest.install_opener(opener)\n",
    "\trequest.urlretrieve(url,local)"
   ]
  },
  {
   "cell_type": "code",
   "execution_count": 72,
   "metadata": {},
   "outputs": [],
   "source": [
    "# import brawler models\n",
    "for i, brawler in enumerate(brawlers['name']):\n",
    "\tbrawler = brawler.lower().replace(' ','_').replace('.','_')\n",
    "\turl = 'https://media.brawltime.ninja/brawlers/' + brawler + '/model.webp'\n",
    "\tlocal = 'resources/brawler_icons/model/' + brawler + '.png'\n",
    "\topener=request.build_opener()\n",
    "\topener.addheaders=[('User-Agent','Mozilla/5.0 (Windows NT 6.1; WOW64) AppleWebKit/537.36 (KHTML, like Gecko) Chrome/36.0.1941.0 Safari/537.36')]\n",
    "\trequest.install_opener(opener)\n",
    "\trequest.urlretrieve(url,local)"
   ]
  },
  {
   "cell_type": "code",
   "execution_count": null,
   "metadata": {},
   "outputs": [],
   "source": [
    "# pendiente importar maps brawlball, hotzone, gemgrab, knockout"
   ]
  },
  {
   "cell_type": "code",
   "execution_count": null,
   "metadata": {},
   "outputs": [],
   "source": [
    "#SELENIUM\n",
    "# driver = webdriver.Chrome()\n",
    "\n",
    "# url = 'https://brawltime.ninja/es/tier-list/brawler/8-bit'\n",
    "\n",
    "# chrome_options = webdriver.ChromeOptions()\n",
    "# chrome_options.add_argument('--headless')\n",
    "# chrome_options.add_argument('--no-sandbox')\n",
    "# chrome_options.add_argument('--disable-dev-shm-usage')\n",
    "# driver = webdriver.Chrome('chromedriver',chrome_options=chrome_options)\n",
    "\n",
    "\n",
    "# health=[]\n",
    "# brawlerRarity=[]\n",
    "# # content = driver.page_source\n",
    "# # soup = BeautifulSoup(content)\n",
    "\n",
    "# driver.get(url.format(s='Pets'))\n",
    "\n",
    "# print(f'Found {len(get_videos(driver))} boxes.')\n",
    "\n",
    "# for a in soup.findAll('dl', attrs={'class':'flex flex-col gap-y-1' 'data-v-62f27b4e'}):\n",
    "#     name=a.find('dt', attrs={'class':'basis-[min-content] flex-grow text-text/75'})\n",
    "#     brawlerRarity=a.find('dd', attrs={'class':'basis-[auto] text-text text-right'})\n",
    "#     health.append(name)\n",
    "\n",
    "# print(name)"
   ]
  },
  {
   "cell_type": "code",
   "execution_count": 27,
   "metadata": {},
   "outputs": [],
   "source": [
    "# webscraping brawlers with requests_html\n",
    "indicators = []\n",
    "\n",
    "for i, brawler in enumerate(brawlers['name']):\t\n",
    "\tbrawler = brawler.lower().replace(' ','_').replace('.','_')\n",
    "\tsession = HTMLSession()\n",
    "\turl = 'https://brawltime.ninja/tier-list/brawler/' + brawler\n",
    "\tresponse = session.get(url)\n",
    "\t#response.html.find('div.dashboard__cell', first=True).find('dt')\n",
    "\n",
    "\ttitles = []\n",
    "\tcontents = []\n",
    "\ttmp_p = ''\n",
    "\n",
    "\tlist = response.html.find('dt')\n",
    "\tfor item in list:\n",
    "\t\ttmp = item.text.split('\\n')\n",
    "\t\ttitles.append(tmp[0])\n",
    "\t\tif tmp_p == 'Speed':\n",
    "\t\t\tbreak\t\t\n",
    "\t\ttmp_p = tmp[0]\n",
    "\t\t\n",
    "\tlist = response.html.find('dd')\n",
    "\tfor item in list:\n",
    "\t\ttmp = item.text.split('\\n')\n",
    "\t\tcontents.append(tmp[0])\n",
    "\n",
    "\tclist = dict(zip(titles, contents))\n",
    "\tclist['Brawler'] = brawler\n",
    "\tindicators.append(clist)"
   ]
  },
  {
   "cell_type": "code",
   "execution_count": 28,
   "metadata": {},
   "outputs": [],
   "source": [
    "indicators_df = pd.DataFrame(indicators)\n",
    "\n",
    "indicators_df = indicators_df[['Brawler','Health','Rarity','Class','Movement Speed','Range','Reload','Bullets','Super Charge','Spread','Speed','Width']]\n",
    "\n",
    "indicators_df.to_csv('datasets/brawlers/scrap_ninja.csv')"
   ]
  }
 ],
 "metadata": {
  "kernelspec": {
   "display_name": "Python 3",
   "language": "python",
   "name": "python3"
  },
  "language_info": {
   "codemirror_mode": {
    "name": "ipython",
    "version": 3
   },
   "file_extension": ".py",
   "mimetype": "text/x-python",
   "name": "python",
   "nbconvert_exporter": "python",
   "pygments_lexer": "ipython3",
   "version": "3.11.0"
  },
  "orig_nbformat": 4,
  "vscode": {
   "interpreter": {
    "hash": "4b0513afd20a5cc577fca9da950d42d1e3c742e55e08a19f57b01f1278df70cd"
   }
  }
 },
 "nbformat": 4,
 "nbformat_minor": 2
}
