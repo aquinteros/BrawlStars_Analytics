{
 "cells": [
  {
   "attachments": {},
   "cell_type": "markdown",
   "metadata": {},
   "source": [
    "## Import packages"
   ]
  },
  {
   "cell_type": "code",
   "execution_count": 1,
   "metadata": {},
   "outputs": [],
   "source": [
    "# importar paquetes a ocupar\n",
    "import brawlstats\n",
    "import pandas as pd\n",
    "import datetime\n",
    "import api_key as key\n",
    "import concurrent.futures as cf\n",
    "from tqdm import tqdm"
   ]
  },
  {
   "attachments": {},
   "cell_type": "markdown",
   "metadata": {},
   "source": [
    "## Import from API"
   ]
  },
  {
   "cell_type": "code",
   "execution_count": 14,
   "metadata": {},
   "outputs": [],
   "source": [
    "# crear cliente\n",
    "client = brawlstats.Client(key.api_key)"
   ]
  },
  {
   "cell_type": "code",
   "execution_count": 15,
   "metadata": {},
   "outputs": [],
   "source": [
    "# importar brawlers\n",
    "brawlers = pd.DataFrame()\n",
    "json_brawlers = client.get_brawlers().raw_data\n",
    "brawlers = pd.concat([brawlers, pd.json_normalize(json_brawlers)])"
   ]
  },
  {
   "cell_type": "code",
   "execution_count": 16,
   "metadata": {},
   "outputs": [],
   "source": [
    "brawlers = pd.merge(left=brawlers, right=pd.json_normalize(brawlers['starPowers']).add_prefix('starPowers.'), left_index=True, right_index=True)\n",
    "brawlers = pd.merge(left=brawlers, right=pd.json_normalize(brawlers['gadgets']).add_prefix('gadgets.'), left_index=True, right_index=True)\n",
    "brawlers = brawlers.drop('starPowers', axis=1)\n",
    "brawlers = brawlers.drop('gadgets', axis=1)"
   ]
  },
  {
   "cell_type": "code",
   "execution_count": 17,
   "metadata": {},
   "outputs": [
    {
     "name": "stdout",
     "output_type": "stream",
     "text": [
      "<class 'pandas.core.frame.DataFrame'>\n",
      "RangeIndex: 64 entries, 0 to 63\n",
      "Data columns (total 6 columns):\n",
      " #   Column        Non-Null Count  Dtype \n",
      "---  ------        --------------  ----- \n",
      " 0   id            64 non-null     int64 \n",
      " 1   name          64 non-null     object\n",
      " 2   starPowers.0  64 non-null     object\n",
      " 3   starPowers.1  64 non-null     object\n",
      " 4   gadgets.0     64 non-null     object\n",
      " 5   gadgets.1     64 non-null     object\n",
      "dtypes: int64(1), object(5)\n",
      "memory usage: 3.1+ KB\n",
      "None\n"
     ]
    }
   ],
   "source": [
    "# reset brawler index y export de dataset\n",
    "brawlers.to_parquet('datasets/brawlers/brawlers.parquet', index=False, engine='fastparquet', compression='gzip')\n",
    "\n",
    "print(brawlers.info())"
   ]
  },
  {
   "cell_type": "code",
   "execution_count": 18,
   "metadata": {},
   "outputs": [],
   "source": [
    "# import información adicional de brawlers\n",
    "brawlers_classification = pd.read_csv('datasets/brawlers/brawlers_classification.csv', index_col=0)"
   ]
  },
  {
   "cell_type": "code",
   "execution_count": 19,
   "metadata": {},
   "outputs": [
    {
     "name": "stdout",
     "output_type": "stream",
     "text": [
      "<class 'pandas.core.frame.DataFrame'>\n",
      "Int64Index: 64 entries, 0 to 63\n",
      "Data columns (total 17 columns):\n",
      " #   Column          Non-Null Count  Dtype  \n",
      "---  ------          --------------  -----  \n",
      " 0   id              64 non-null     int64  \n",
      " 1   name            64 non-null     object \n",
      " 2   starPowers.0    64 non-null     object \n",
      " 3   starPowers.1    64 non-null     object \n",
      " 4   gadgets.0       64 non-null     object \n",
      " 5   gadgets.1       64 non-null     object \n",
      " 6   Brawler         64 non-null     object \n",
      " 7   Health          64 non-null     float64\n",
      " 8   Rarity          64 non-null     object \n",
      " 9   Class           64 non-null     object \n",
      " 10  Movement_Speed  64 non-null     object \n",
      " 11  Range           63 non-null     object \n",
      " 12  Reload          63 non-null     object \n",
      " 13  Speed_Num       64 non-null     int64  \n",
      " 14  Range_Num       64 non-null     float64\n",
      " 15  Reload_Num      63 non-null     float64\n",
      " 16  Role            64 non-null     object \n",
      "dtypes: float64(3), int64(2), object(12)\n",
      "memory usage: 9.0+ KB\n",
      "None\n"
     ]
    }
   ],
   "source": [
    "# merge de ambos dataframes\n",
    "brawlerStats = pd.merge(brawlers, brawlers_classification, on='id')\n",
    "print(brawlerStats.info())"
   ]
  },
  {
   "cell_type": "code",
   "execution_count": 20,
   "metadata": {},
   "outputs": [
    {
     "name": "stdout",
     "output_type": "stream",
     "text": [
      "dimensiones brawlerStats: (64, 17)\n"
     ]
    }
   ],
   "source": [
    "# export dataframe final brawlers\n",
    "brawlerStats.to_parquet('datasets/brawlers/brawlers_stats.parquet', index=False, engine='fastparquet', compression='gzip')\n",
    "\n",
    "print('dimensiones brawlerStats: ' + str(brawlerStats.shape))"
   ]
  },
  {
   "cell_type": "code",
   "execution_count": 21,
   "metadata": {},
   "outputs": [],
   "source": [
    "countryCode = ['US','MX','BR','GB','CA','DE','FR','ES','IT','RU','TR','AR','PL','CO','IN','ID','UA','AU','NL','JP','KR','CZ','CH','PH','MY','VN','IE',]#'TH','IL','NO','FI','PT','AT','GR','HU','SG','SA','AE','SE','DK','BZ','CR','GT','HN','NI','PA','SV','BO','CL','EC']"
   ]
  },
  {
   "cell_type": "code",
   "execution_count": 22,
   "metadata": {},
   "outputs": [
    {
     "name": "stdout",
     "output_type": "stream",
     "text": [
      "cantidad top player tag: 5433\n"
     ]
    }
   ],
   "source": [
    "# sacar el player tag de los top players\n",
    "top_player = []\n",
    "\n",
    "# top global\n",
    "leaderboard = client.get_rankings(ranking='players')\n",
    "for i in leaderboard:\n",
    "    top_player.append({'tag': i.tag, 'trophies': i.trophies, 'rank_type': 'global'})\n",
    "\n",
    "# top por regiones en countryCode\n",
    "for i, item in enumerate(countryCode):\n",
    "   leaderboard = client.get_rankings(ranking='players',region=item)\n",
    "   for k in leaderboard:\n",
    "    top_player.append({'tag': k.tag, 'trophies': k.trophies, 'rank_type': item})\n",
    "\n",
    "top_player = pd.DataFrame(top_player).drop_duplicates(subset='tag', keep='first').reset_index(drop=True)\n",
    "\n",
    "print('cantidad top player tag: ' + str(len(top_player)))\n",
    "\n",
    "# exportar dataset en parquet\n",
    "top_player.to_parquet('datasets/players/top_player.parquet', index=False, engine='fastparquet', compression='gzip')"
   ]
  },
  {
   "cell_type": "code",
   "execution_count": 23,
   "metadata": {},
   "outputs": [
    {
     "name": "stdout",
     "output_type": "stream",
     "text": [
      "cantidad top club tag: 5600\n"
     ]
    }
   ],
   "source": [
    "# sacar el club de los top clubs\n",
    "top_club = []\n",
    "\n",
    "# top global\n",
    "leaderboard = client.get_rankings(ranking='clubs')\n",
    "for i in leaderboard:\n",
    "    top_club.append({'tag': i.tag, 'trophies': i.trophies, 'rank_type': 'global'})\n",
    "\n",
    "# top por regiones en countryCode\n",
    "for i, item in enumerate(countryCode):\n",
    "   leaderboard = client.get_rankings(ranking='players',region=item)\n",
    "   for k in leaderboard:\n",
    "    top_club.append({'tag': k.tag, 'trophies': k.trophies, 'rank_type': 'region'})\n",
    "\n",
    "top_club = pd.DataFrame(top_club).drop_duplicates(subset='tag', keep='first').reset_index(drop=True)\n",
    "\n",
    "print('cantidad top club tag: ' + str(len(top_club)))\n",
    "\n",
    "# exportar dataset en parquet\n",
    "top_club.to_parquet('datasets/clubs/top_club.parquet', index=False, engine='fastparquet', compression='gzip')"
   ]
  },
  {
   "cell_type": "code",
   "execution_count": 24,
   "metadata": {},
   "outputs": [
    {
     "data": {
      "application/vnd.jupyter.widget-view+json": {
       "model_id": "41eea2b6ce9d4d9d9ca85959fbe3277b",
       "version_major": 2,
       "version_minor": 0
      },
      "text/plain": [
       "  0%|          | 0/5433 [00:00<?, ?it/s]"
      ]
     },
     "metadata": {},
     "output_type": "display_data"
    },
    {
     "name": "stdout",
     "output_type": "stream",
     "text": [
      "No se pudo recuperar battlelog de tag #Y989VP\n",
      "No se pudo recuperar battlelog de tag #289RLYVGP\n",
      "No se pudo recuperar battlelog de tag #22PRY0U8Y\n",
      "No se pudo recuperar battlelog de tag #2CJUV0CYQ\n",
      "No se pudo recuperar battlelog de tag #8JUUJYG90\n",
      "No se pudo recuperar battlelog de tag #2JUUJQCGQ\n",
      "No se pudo recuperar battlelog de tag #28UURPLGU\n",
      "No se pudo recuperar battlelog de tag #LGGVYUG2\n",
      "No se pudo recuperar battlelog de tag #L99892JJ\n",
      "No se pudo recuperar battlelog de tag #2GJUUQRL2\n",
      "No se pudo recuperar battlelog de tag #220G9GYVQ\n",
      "No se pudo recuperar battlelog de tag #2UGYQURUG\n",
      "No se pudo recuperar battlelog de tag #9LGL00PUU\n",
      "No se pudo recuperar battlelog de tag #2G890LVCC\n",
      "No se pudo recuperar battlelog de tag #YJPCULCY\n",
      "No se pudo recuperar battlelog de tag #8R2LYL92U\n",
      "No se pudo recuperar battlelog de tag #8LUQL2L9J\n",
      "No se pudo recuperar battlelog de tag #LPPLP220Y\n",
      "No se pudo recuperar battlelog de tag #LP8QV80Q\n",
      "No se pudo recuperar battlelog de tag #9LYVUQUG2\n",
      "No se pudo recuperar battlelog de tag #PJ2UQQGUG\n",
      "No se pudo recuperar battlelog de tag #U88V20P2\n",
      "No se pudo recuperar battlelog de tag #P2L8GC8YC\n",
      "No se pudo recuperar battlelog de tag #9JYVU09LY\n",
      "No se pudo recuperar battlelog de tag #2L0CQC8R9\n",
      "No se pudo recuperar battlelog de tag #28QQUC2VC\n",
      "No se pudo recuperar battlelog de tag #J0GP9UQQ\n",
      "No se pudo recuperar battlelog de tag #8RJRGVVL0\n",
      "No se pudo recuperar battlelog de tag #2LCYCU28\n",
      "No se pudo recuperar battlelog de tag #9GGQ9JPC\n",
      "No se pudo recuperar battlelog de tag #28G09GV8Y\n",
      "No se pudo recuperar battlelog de tag #GJCPVVL\n"
     ]
    }
   ],
   "source": [
    "# importar battlelog usando concurrent.futures\n",
    "def process_player(i, playertag):\n",
    "\tjson_battlelog = {}\n",
    "\ttry:\n",
    "\t\tjson_battlelog = client.get_battle_logs(playertag).raw_data\n",
    "\texcept:\n",
    "\t\tprint(\"No se pudo recuperar battlelog de tag \" + playertag)\n",
    "\n",
    "\tplayer_data = {}\n",
    "\n",
    "\tfor k in range(len(json_battlelog)):\n",
    "\t\tloaded_json = json_battlelog[k]\n",
    "\t\tloaded_json['playertag'] = playertag\n",
    "\t\tplayer_data[str(i) + '-' + str(k)] = loaded_json\n",
    "\treturn player_data\n",
    "\n",
    "data = {}\n",
    "\n",
    "top_player_list = top_player['tag'].to_list()\n",
    "\n",
    "with cf.ThreadPoolExecutor(max_workers=40) as executor:\n",
    "\tfutures = [executor.submit(process_player, i, playertag) for i, playertag in enumerate(top_player_list)]\n",
    "\tfor future in tqdm(cf.as_completed(futures), total=len(top_player_list), colour='brown'):\n",
    "\t\tplayer_data = future.result()\n",
    "\t\tdata.update(player_data)\n",
    "\n",
    "battlelog = pd.DataFrame.from_dict(data, orient='index').reset_index(drop=True)"
   ]
  },
  {
   "cell_type": "code",
   "execution_count": 25,
   "metadata": {},
   "outputs": [],
   "source": [
    "# importar battelog de api\n",
    "\n",
    "# data = {}\n",
    "\n",
    "# top_player_list = top_player['tag'].to_list()\n",
    "\n",
    "# for i, playertag in tqdm(enumerate(top_player_list), total = len(top_player_list), colour='brown'):\n",
    "#     json_battlelog = {}\n",
    "#     try:\n",
    "#         json_battlelog = client.get_battle_logs(playertag).raw_data\n",
    "#     except:\n",
    "#         print(\"No se pudo recuperar battlelog de tag \" + playertag)\n",
    "    \n",
    "#     for k in range(len(json_battlelog)):\n",
    "#         loaded_json = json_battlelog[k]\n",
    "#         loaded_json['playertag'] = playertag\n",
    "#         data[str(i) + '-' + str(k)] = loaded_json\n",
    "\n",
    "# battlelog = pd.DataFrame.from_dict(data, orient='index').reset_index(drop=True)"
   ]
  },
  {
   "cell_type": "code",
   "execution_count": 26,
   "metadata": {},
   "outputs": [],
   "source": [
    "# creación del dataframe\n",
    "#battlelog = pd.DataFrame()\n",
    "\n",
    "#def split_json(s):\n",
    "#\t# separa un string por el item \"\n",
    "#\ts = str(s).split('\"')\n",
    "#\n",
    "#\treturn s\n",
    "\n",
    "#def clean_json(jsonitem):\n",
    "#\t# para una lista de artiuclos de json, separa en \" y limpia los elementos impares de la lista resultante \n",
    "#\tfor i in range(len(jsonitem)):\n",
    "#\t\tsplitted = split_json(jsonitem[i])\n",
    "#\t\tfor j in range(len(splitted)):\n",
    "#\t\t\tsplitted[j] = str(splitted[j]).replace('None','\"None\"').replace('False','\"False\"').replace('True','\"True\"')\n",
    "#\t\t\tif j % 2 == 1 and len(splitted[j]) < 20:\n",
    "#\t\t\t\tsplitted[j] = '\"' + str(splitted[j]).replace(\"'\",'`') + '\"'\n",
    "#\t\t\telse:\n",
    "#\t\t\t\tsplitted[j] = str(splitted[j]).replace(\"'\",'\"')\n",
    "#\t\tjsonitem[i] = ''.join(splitted)\n",
    "#\t\n",
    "#\treturn jsonitem\n",
    "\n",
    "#def cleanjson(val):\n",
    "#\tresult = str(val).replace('\"',\"`\").replace(': `', \": '\").replace('`,',\"',\").replace('`}',\"'}\").replace(\"e's\",'e`s').replace('\"ll','`ll').replace(\"I'm\", 'I`m').replace(\"i'm\", 'i`m').replace(\"' \",\"` \").replace(\"t's\",\"t`s\").replace('None',\"'None'\").replace(\"'\",'\"')\n",
    "#\treturn result\n",
    "\n",
    "# progress = widgets.IntProgress(\n",
    "# \tvalue=0, \n",
    "# \tmin=0, \n",
    "# \tmax=100, \n",
    "# \tdescription='cargando:',\n",
    "# \tstyle={'bar_color': 'maroon'}) \n",
    "\n",
    "# processed = widgets.BoundedFloatText(\n",
    "#     value=0,\n",
    "#     min=0,\n",
    "#     max=len(topplayer_tag),\n",
    "#     description='procesado:',\n",
    "#     disabled=False\n",
    "# )\n",
    "\n",
    "# display(progress)\n",
    "# display(processed)\n",
    "\n",
    "# for i in range(len(topplayer_tag)):\n",
    "\n",
    "# \tjson_battlelog = {}\n",
    "# \tplayertag = topplayer_tag[i]\n",
    "# \ttry:\n",
    "# \t\tjson_battlelog = client.get_battle_logs(playertag).raw_data\n",
    "# \texcept:\n",
    "# \t\tprint(\"No se pudo recuperar battlelog de tag \" + playertag)\n",
    "\n",
    "# \tfor k in range(len(json_battlelog)):\n",
    "# \t\tloaded_json = json_battlelog[k]\n",
    "# \t\tjson_battlelog[k]['playertag'] = playertag\n",
    "# \t\ttry:\n",
    "# \t\t\tbattlelog = battlelog.append(pd.json_normalize(loaded_json), ignore_index=True)\n",
    "# \t\texcept:\n",
    "# \t\t\tprint(\"no se pudo importar \" + playertag + \" battlelog numero \" + str(k))\n",
    "\n",
    "# \tprogress.value = ((i+1) / len(topplayer_tag)) * 100\n",
    "# \tprocessed.value = i\n"
   ]
  },
  {
   "attachments": {},
   "cell_type": "markdown",
   "metadata": {},
   "source": [
    "## Data Depuration"
   ]
  },
  {
   "cell_type": "code",
   "execution_count": 27,
   "metadata": {},
   "outputs": [],
   "source": [
    "# desglose de dataframe\n",
    "battlelog = pd.merge(left=battlelog, right=pd.json_normalize(battlelog['event']).add_prefix('event.'), left_index=True, right_index=True)\n",
    "battlelog = pd.merge(left=battlelog, right=pd.json_normalize(battlelog['battle']).add_prefix('battle.'), left_index=True, right_index=True)"
   ]
  },
  {
   "cell_type": "code",
   "execution_count": 28,
   "metadata": {},
   "outputs": [
    {
     "name": "stdout",
     "output_type": "stream",
     "text": [
      "dimensiones battlelog: (130662, 28)\n"
     ]
    }
   ],
   "source": [
    "# reset battlelog index\n",
    "battlelog = battlelog.drop('event', axis=1)\n",
    "battlelog = battlelog.drop('battle', axis=1)\n",
    "print('dimensiones battlelog: ' + str(battlelog.shape))"
   ]
  },
  {
   "cell_type": "code",
   "execution_count": 29,
   "metadata": {},
   "outputs": [
    {
     "name": "stdout",
     "output_type": "stream",
     "text": [
      "<class 'pandas.core.frame.DataFrame'>\n",
      "RangeIndex: 130662 entries, 0 to 130661\n",
      "Data columns (total 28 columns):\n",
      " #   Column                              Non-Null Count   Dtype  \n",
      "---  ------                              --------------   -----  \n",
      " 0   battleTime                          130662 non-null  object \n",
      " 1   playertag                           130662 non-null  object \n",
      " 2   event.id                            130662 non-null  int64  \n",
      " 3   event.mode                          112058 non-null  object \n",
      " 4   event.map                           112058 non-null  object \n",
      " 5   battle.mode                         130662 non-null  object \n",
      " 6   battle.type                         129915 non-null  object \n",
      " 7   battle.result                       96283 non-null   object \n",
      " 8   battle.duration                     96335 non-null   float64\n",
      " 9   battle.trophyChange                 86090 non-null   float64\n",
      " 10  battle.teams                        113875 non-null  object \n",
      " 11  battle.starPlayer.tag               83982 non-null   object \n",
      " 12  battle.starPlayer.name              83982 non-null   object \n",
      " 13  battle.starPlayer.brawler.id        83982 non-null   float64\n",
      " 14  battle.starPlayer.brawler.name      83982 non-null   object \n",
      " 15  battle.starPlayer.brawler.power     83982 non-null   float64\n",
      " 16  battle.starPlayer.brawler.trophies  83982 non-null   float64\n",
      " 17  battle.rank                         33709 non-null   float64\n",
      " 18  battle.players                      16787 non-null   object \n",
      " 19  battle.starPlayer                   0 non-null       float64\n",
      " 20  battle.bigBrawler.tag               641 non-null     object \n",
      " 21  battle.bigBrawler.name              641 non-null     object \n",
      " 22  battle.bigBrawler.brawler.id        641 non-null     float64\n",
      " 23  battle.bigBrawler.brawler.name      641 non-null     object \n",
      " 24  battle.bigBrawler.brawler.power     641 non-null     float64\n",
      " 25  battle.bigBrawler.brawler.trophies  641 non-null     float64\n",
      " 26  battle.level.name                   77 non-null      object \n",
      " 27  battle.level.id                     77 non-null      float64\n",
      "dtypes: float64(11), int64(1), object(16)\n",
      "memory usage: 27.9+ MB\n"
     ]
    }
   ],
   "source": [
    "battlelog.info()"
   ]
  },
  {
   "cell_type": "code",
   "execution_count": 30,
   "metadata": {},
   "outputs": [
    {
     "data": {
      "text/plain": [
       "ranked                   103060\n",
       "soloRanked                11071\n",
       "friendly                   7055\n",
       "teamRanked                 6475\n",
       "championshipChallenge      1853\n",
       "challenge                   208\n",
       "tournament                  193\n",
       "Name: battle.type, dtype: int64"
      ]
     },
     "execution_count": 30,
     "metadata": {},
     "output_type": "execute_result"
    }
   ],
   "source": [
    "# cuenta tipos de juego\n",
    "battlelog['battle.type'].value_counts()"
   ]
  },
  {
   "cell_type": "code",
   "execution_count": 31,
   "metadata": {},
   "outputs": [],
   "source": [
    "# eliminar friendly\n",
    "battlelog = battlelog.loc[battlelog['battle.type'] != \"friendly\"]"
   ]
  },
  {
   "cell_type": "code",
   "execution_count": 32,
   "metadata": {},
   "outputs": [
    {
     "data": {
      "text/plain": [
       "brawlBall       32998\n",
       "duoShowdown     17565\n",
       "gemGrab         16150\n",
       "soloShowdown    14920\n",
       "heist           12414\n",
       "knockout        11832\n",
       "hotZone          9362\n",
       "bounty           7619\n",
       "bigGame           641\n",
       "bossFight          77\n",
       "roboRumble         29\n",
       "Name: battle.mode, dtype: int64"
      ]
     },
     "execution_count": 32,
     "metadata": {},
     "output_type": "execute_result"
    }
   ],
   "source": [
    "# cuenta modos de juego\n",
    "battlelog['battle.mode'].value_counts() "
   ]
  },
  {
   "cell_type": "code",
   "execution_count": 33,
   "metadata": {},
   "outputs": [],
   "source": [
    "# eliminar modos alt y modos showdown\n",
    "modos_alt = ['bossFight','roboRumble','bigGame','soloShowdown','duoShowdown']\n",
    "battlelog = battlelog.loc[~battlelog['battle.mode'].isin(modos_alt)]"
   ]
  },
  {
   "cell_type": "code",
   "execution_count": 34,
   "metadata": {},
   "outputs": [],
   "source": [
    "# eliminar event vacio\n",
    "battlelog['event.mode'] = battlelog['event.mode'].fillna('unknown')\n",
    "battlelog = battlelog.loc[battlelog['event.mode'] != \"unknown\"]"
   ]
  },
  {
   "cell_type": "code",
   "execution_count": 35,
   "metadata": {},
   "outputs": [],
   "source": [
    "# eliminar map vacio\n",
    "battlelog['event.map'] = battlelog['event.map'].fillna('unknown')\n",
    "battlelog = battlelog.loc[battlelog['event.map'] != \"unknown\"]"
   ]
  },
  {
   "cell_type": "code",
   "execution_count": 36,
   "metadata": {},
   "outputs": [
    {
     "name": "stdout",
     "output_type": "stream",
     "text": [
      "dimensiones battlelog: (74331, 28)\n"
     ]
    }
   ],
   "source": [
    "# reset battlelog index\n",
    "battlelog.reset_index(drop=True, inplace=True)\n",
    "\n",
    "print('dimensiones battlelog: ' + str(battlelog.shape))"
   ]
  },
  {
   "cell_type": "code",
   "execution_count": 37,
   "metadata": {},
   "outputs": [],
   "source": [
    "# player = {}\n",
    "\n",
    "# npl = top_player['tag'][0:100].to_list()\n",
    "\n",
    "# for i, playertag in enumerate(npl):\n",
    "# \tprofile = client.get_profile(playertag)\n",
    "# \tplayer[str(i)] = {\n",
    "# \t\t'tag': playertag, \n",
    "# \t\t'team_victories': profile.team_victories, \n",
    "# \t\t'highestTrophies': profile.highest_trophies, \n",
    "# \t\t'expPoints': profile.exp_points, \n",
    "# \t\t'trophies': profile.trophies,\n",
    "# \t\t'datetime': datetime.datetime.now()\n",
    "# \t\t}\n",
    "\n",
    "# players = pd.DataFrame.from_dict(player, orient='index').reset_index(drop=True)\n",
    "# players"
   ]
  },
  {
   "cell_type": "code",
   "execution_count": 38,
   "metadata": {},
   "outputs": [
    {
     "name": "stdout",
     "output_type": "stream",
     "text": [
      "<class 'pandas.core.frame.DataFrame'>\n",
      "RangeIndex: 74331 entries, 0 to 74330\n",
      "Data columns (total 64 columns):\n",
      " #   Column                                 Non-Null Count  Dtype  \n",
      "---  ------                                 --------------  -----  \n",
      " 0   battleTime                             74331 non-null  object \n",
      " 1   playertag                              74331 non-null  object \n",
      " 2   event.id                               74331 non-null  int64  \n",
      " 3   event.mode                             74331 non-null  object \n",
      " 4   event.map                              74331 non-null  object \n",
      " 5   battle.mode                            74331 non-null  object \n",
      " 6   battle.type                            74331 non-null  object \n",
      " 7   battle.result                          74331 non-null  object \n",
      " 8   battle.duration                        74331 non-null  float64\n",
      " 9   battle.trophyChange                    56595 non-null  float64\n",
      " 10  battle.teams                           74331 non-null  object \n",
      " 11  battle.starPlayer.tag                  64185 non-null  object \n",
      " 12  battle.starPlayer.name                 64185 non-null  object \n",
      " 13  battle.starPlayer.brawler.id           64185 non-null  float64\n",
      " 14  battle.starPlayer.brawler.name         64185 non-null  object \n",
      " 15  battle.starPlayer.brawler.power        64185 non-null  float64\n",
      " 16  battle.starPlayer.brawler.trophies     64185 non-null  float64\n",
      " 17  battle.rank                            0 non-null      float64\n",
      " 18  battle.players                         0 non-null      object \n",
      " 19  battle.starPlayer                      0 non-null      float64\n",
      " 20  battle.bigBrawler.tag                  0 non-null      object \n",
      " 21  battle.bigBrawler.name                 0 non-null      object \n",
      " 22  battle.bigBrawler.brawler.id           0 non-null      float64\n",
      " 23  battle.bigBrawler.brawler.name         0 non-null      object \n",
      " 24  battle.bigBrawler.brawler.power        0 non-null      float64\n",
      " 25  battle.bigBrawler.brawler.trophies     0 non-null      float64\n",
      " 26  battle.level.name                      0 non-null      object \n",
      " 27  battle.level.id                        0 non-null      float64\n",
      " 28  battle.team1.player1.tag               74331 non-null  object \n",
      " 29  battle.team1.player1.name              74331 non-null  object \n",
      " 30  battle.team1.player1.brawler.id        74331 non-null  float64\n",
      " 31  battle.team1.player1.brawler.name      74331 non-null  object \n",
      " 32  battle.team1.player1.brawler.power     74331 non-null  float64\n",
      " 33  battle.team1.player1.brawler.trophies  74331 non-null  float64\n",
      " 34  battle.team1.player2.tag               74331 non-null  object \n",
      " 35  battle.team1.player2.name              74331 non-null  object \n",
      " 36  battle.team1.player2.brawler.id        74331 non-null  float64\n",
      " 37  battle.team1.player2.brawler.name      74331 non-null  object \n",
      " 38  battle.team1.player2.brawler.power     74331 non-null  float64\n",
      " 39  battle.team1.player2.brawler.trophies  74331 non-null  float64\n",
      " 40  battle.team1.player3.tag               74331 non-null  object \n",
      " 41  battle.team1.player3.name              74331 non-null  object \n",
      " 42  battle.team1.player3.brawler.id        74331 non-null  float64\n",
      " 43  battle.team1.player3.brawler.name      74331 non-null  object \n",
      " 44  battle.team1.player3.brawler.power     74331 non-null  float64\n",
      " 45  battle.team1.player3.brawler.trophies  74331 non-null  float64\n",
      " 46  battle.team2.player1.tag               74331 non-null  object \n",
      " 47  battle.team2.player1.name              74331 non-null  object \n",
      " 48  battle.team2.player1.brawler.id        74331 non-null  float64\n",
      " 49  battle.team2.player1.brawler.name      74331 non-null  object \n",
      " 50  battle.team2.player1.brawler.power     74331 non-null  float64\n",
      " 51  battle.team2.player1.brawler.trophies  74331 non-null  float64\n",
      " 52  battle.team2.player2.tag               74331 non-null  object \n",
      " 53  battle.team2.player2.name              74331 non-null  object \n",
      " 54  battle.team2.player2.brawler.id        74331 non-null  float64\n",
      " 55  battle.team2.player2.brawler.name      74331 non-null  object \n",
      " 56  battle.team2.player2.brawler.power     74331 non-null  float64\n",
      " 57  battle.team2.player2.brawler.trophies  74331 non-null  float64\n",
      " 58  battle.team2.player3.tag               74331 non-null  object \n",
      " 59  battle.team2.player3.name              74331 non-null  object \n",
      " 60  battle.team2.player3.brawler.id        74331 non-null  float64\n",
      " 61  battle.team2.player3.brawler.name      74331 non-null  object \n",
      " 62  battle.team2.player3.brawler.power     74331 non-null  float64\n",
      " 63  battle.team2.player3.brawler.trophies  74331 non-null  float64\n",
      "dtypes: float64(29), int64(1), object(34)\n",
      "memory usage: 36.3+ MB\n"
     ]
    }
   ],
   "source": [
    "# descomponer la columna teams\n",
    "\n",
    "# def battle_delimiter(i, j):\n",
    "# \tresult = pd.json_normalize(pd.json_normalize(pd.json_normalize(pd.json_normalize(rawdata['battle'])['teams'])[i])[j])\n",
    "# \treturn result\n",
    "\n",
    "def normalize_to_df(i, t, p):\n",
    "\tbattlelog.loc[i,'battle.team' + str(t) + '.player' + str(p) + '.tag'] = normalized[t - 1][p - 1]['tag']\n",
    "\tbattlelog.loc[i,'battle.team' + str(t) + '.player' + str(p) + '.name'] = normalized[t - 1][p - 1]['name']\n",
    "\tbattlelog.loc[i,'battle.team' + str(t) + '.player' + str(p) + '.brawler.id'] = normalized[t - 1][p - 1]['brawler.id']\n",
    "\tbattlelog.loc[i,'battle.team' + str(t) + '.player' + str(p) + '.brawler.name'] = normalized[t - 1][p - 1]['brawler.name']\n",
    "\tbattlelog.loc[i,'battle.team' + str(t) + '.player' + str(p) + '.brawler.power'] = normalized[t - 1][p - 1]['brawler.power']\n",
    "\tbattlelog.loc[i,'battle.team' + str(t) + '.player' + str(p) + '.brawler.trophies'] = normalized[t - 1][p - 1]['brawler.trophies']\n",
    "\n",
    "normalized = pd.DataFrame()\n",
    "\n",
    "for i, team in enumerate(battlelog['battle.teams']):\n",
    "\tif team != None:\n",
    "\t\ttry:\n",
    "\t\t\tnormalized = pd.json_normalize(team, errors='ignore').transpose()\n",
    "\t\t\tnormalize_to_df(i, 1, 1)\n",
    "\t\t\tnormalize_to_df(i, 1, 2)\n",
    "\t\t\tnormalize_to_df(i, 1, 3)\n",
    "\t\t\tnormalize_to_df(i, 2, 1)\n",
    "\t\t\tnormalize_to_df(i, 2, 2)\n",
    "\t\t\tnormalize_to_df(i, 2, 3)\n",
    "\t\texcept:\n",
    "\t\t\tprint(\"no se pudo transponer\")\n",
    "\n",
    "battlelog.info()"
   ]
  },
  {
   "cell_type": "code",
   "execution_count": 39,
   "metadata": {},
   "outputs": [
    {
     "data": {
      "text/plain": [
       "(141565,)"
      ]
     },
     "execution_count": 39,
     "metadata": {},
     "output_type": "execute_result"
    }
   ],
   "source": [
    "# define tags\n",
    "tags = pd.concat([\n",
    "\tbattlelog['battle.team1.player1.tag']\n",
    "\t,battlelog['battle.team1.player2.tag']\n",
    "\t,battlelog['battle.team1.player3.tag']\n",
    "\t,battlelog['battle.team2.player1.tag']\n",
    "\t,battlelog['battle.team2.player2.tag']\n",
    "\t,battlelog['battle.team2.player3.tag']])\n",
    "tags = tags.drop_duplicates().reset_index(drop=True)\n",
    "tags.shape"
   ]
  },
  {
   "cell_type": "code",
   "execution_count": 40,
   "metadata": {},
   "outputs": [
    {
     "data": {
      "application/vnd.jupyter.widget-view+json": {
       "model_id": "c813d4df490d43faba015de5e485673d",
       "version_major": 2,
       "version_minor": 0
      },
      "text/plain": [
       "  0%|          | 0/141565 [00:00<?, ?it/s]"
      ]
     },
     "metadata": {},
     "output_type": "display_data"
    }
   ],
   "source": [
    "# import players dataset\n",
    "player = {}\n",
    "\n",
    "top_player_list = tags.to_list()\n",
    "\n",
    "def get_profile(playertag):\n",
    "\tprofile = client.get_profile(playertag)\n",
    "\treturn {\n",
    "\t\t'tag': playertag, \n",
    "\t\t'team_victories': profile.team_victories, \n",
    "\t\t'highestTrophies': profile.highest_trophies, \n",
    "\t\t'expPoints': profile.exp_points, \n",
    "\t\t'trophies': profile.trophies,\n",
    "\t\t'datetime': datetime.datetime.now()\n",
    "\t\t}\n",
    "\n",
    "with cf.ThreadPoolExecutor(max_workers=40) as executor:\n",
    "\tfuture_to_player = {executor.submit(get_profile, playertag): playertag for playertag in top_player_list}\n",
    "\tfor future in tqdm(cf.as_completed(future_to_player), total = len(top_player_list), colour='brown'):\n",
    "\t\ttry:\n",
    "\t\t\ti = top_player_list.index(future_to_player[future])\n",
    "\t\t\tplayer[str(i)] = future.result()\n",
    "\t\texcept:\n",
    "\t\t\tpass\n",
    "\n",
    "players = pd.DataFrame.from_dict(player, orient='index').reset_index(drop=True)\n"
   ]
  },
  {
   "cell_type": "code",
   "execution_count": 41,
   "metadata": {},
   "outputs": [
    {
     "name": "stdout",
     "output_type": "stream",
     "text": [
      "dimensiones players hist: (819620, 6)\n"
     ]
    }
   ],
   "source": [
    "# importar historico de players\n",
    "players_hist = pd.read_parquet('datasets/players/players.parquet')\n",
    "\n",
    "print('dimensiones players hist: ' + str(players_hist.shape))"
   ]
  },
  {
   "cell_type": "code",
   "execution_count": 42,
   "metadata": {},
   "outputs": [
    {
     "name": "stdout",
     "output_type": "stream",
     "text": [
      "dimensiones players: (859445, 6)\n"
     ]
    }
   ],
   "source": [
    "# concatenar las bases\n",
    "players = pd.concat([players_hist, players], ignore_index=True) \\\n",
    "\t.drop_duplicates(subset='tag', keep='last') \\\n",
    "\t.reset_index(drop=True)\n",
    "\n",
    "print('dimensiones players: ' + str(players.shape))"
   ]
  },
  {
   "cell_type": "code",
   "execution_count": 43,
   "metadata": {},
   "outputs": [],
   "source": [
    "# export players\n",
    "# players.to_csv('datasets/players/players.csv')\n",
    "players.to_parquet('datasets/players/players.parquet', index=False, engine='fastparquet', compression='gzip')"
   ]
  },
  {
   "cell_type": "code",
   "execution_count": 44,
   "metadata": {},
   "outputs": [],
   "source": [
    "# fix column names\n",
    "battlelog.columns = battlelog.columns.str.replace('.', '_', regex=True)"
   ]
  },
  {
   "cell_type": "code",
   "execution_count": 45,
   "metadata": {},
   "outputs": [],
   "source": [
    "# select columns\n",
    "battlelog = battlelog[[\n",
    "'battleTime'\n",
    ",'playertag'\n",
    ",'event_mode'\n",
    ",'event_map'\n",
    ",'battle_type'\n",
    ",'battle_result'\n",
    ",'battle_duration'\n",
    ",'battle_trophyChange'\n",
    ",'battle_team1_player1_tag'\n",
    ",'battle_team1_player1_name'\n",
    ",'battle_team1_player1_brawler_id'\n",
    ",'battle_team1_player1_brawler_name'\n",
    ",'battle_team1_player1_brawler_power'\n",
    ",'battle_team1_player1_brawler_trophies'\n",
    ",'battle_team1_player2_tag'\n",
    ",'battle_team1_player2_name'\n",
    ",'battle_team1_player2_brawler_id'\n",
    ",'battle_team1_player2_brawler_name'\n",
    ",'battle_team1_player2_brawler_power'\n",
    ",'battle_team1_player2_brawler_trophies'\n",
    ",'battle_team1_player3_tag'\n",
    ",'battle_team1_player3_name'\n",
    ",'battle_team1_player3_brawler_id'\n",
    ",'battle_team1_player3_brawler_name'\n",
    ",'battle_team1_player3_brawler_power'\n",
    ",'battle_team1_player3_brawler_trophies'\n",
    ",'battle_team2_player1_tag'\n",
    ",'battle_team2_player1_name'\n",
    ",'battle_team2_player1_brawler_id'\n",
    ",'battle_team2_player1_brawler_name'\n",
    ",'battle_team2_player1_brawler_power'\n",
    ",'battle_team2_player1_brawler_trophies'\n",
    ",'battle_team2_player2_tag'\n",
    ",'battle_team2_player2_name'\n",
    ",'battle_team2_player2_brawler_id'\n",
    ",'battle_team2_player2_brawler_name'\n",
    ",'battle_team2_player2_brawler_power'\n",
    ",'battle_team2_player2_brawler_trophies'\n",
    ",'battle_team2_player3_tag'\n",
    ",'battle_team2_player3_name'\n",
    ",'battle_team2_player3_brawler_id'\n",
    ",'battle_team2_player3_brawler_name'\n",
    ",'battle_team2_player3_brawler_power'\n",
    ",'battle_team2_player3_brawler_trophies'\n",
    "]]"
   ]
  },
  {
   "cell_type": "code",
   "execution_count": 46,
   "metadata": {},
   "outputs": [
    {
     "name": "stdout",
     "output_type": "stream",
     "text": [
      "dimensiones battlelog hist: (693410, 44)\n"
     ]
    }
   ],
   "source": [
    "# traer archivo histórico battlelog\n",
    "# with zipfile.ZipFile('datasets/teams/battlelog_teams.zip', 'r') as zip_ref:\n",
    "    # zip_ref.extractall('datasets/teams/')\n",
    "    \n",
    "battlelog_hist = pd.read_parquet('datasets/teams/battlelog_teams.parquet')\n",
    "\n",
    "print('dimensiones battlelog hist: ' + str(battlelog_hist.shape))"
   ]
  },
  {
   "cell_type": "code",
   "execution_count": 47,
   "metadata": {},
   "outputs": [
    {
     "name": "stdout",
     "output_type": "stream",
     "text": [
      "dimensiones battlelog concat: (767741, 44)\n"
     ]
    }
   ],
   "source": [
    "# agregar nuevos reg a histórico\n",
    "battlelog = pd.concat([battlelog, battlelog_hist])\n",
    "print('dimensiones battlelog concat: ' + str(battlelog.shape))"
   ]
  },
  {
   "cell_type": "code",
   "execution_count": 48,
   "metadata": {},
   "outputs": [
    {
     "name": "stdout",
     "output_type": "stream",
     "text": [
      "dimensiones battlelog final: (757358, 44)\n"
     ]
    }
   ],
   "source": [
    "# eliminar battelogs duplicados\n",
    "battlelog = battlelog.drop_duplicates(['battleTime', 'event_mode', 'event_map', 'battle_type', 'battle_duration', 'battle_team1_player1_tag'], ignore_index=True)\n",
    "\n",
    "print('dimensiones battlelog final: ' + str(battlelog.shape))"
   ]
  },
  {
   "cell_type": "code",
   "execution_count": 49,
   "metadata": {},
   "outputs": [
    {
     "name": "stdout",
     "output_type": "stream",
     "text": [
      "<class 'pandas.core.frame.DataFrame'>\n",
      "RangeIndex: 757358 entries, 0 to 757357\n",
      "Data columns (total 44 columns):\n",
      " #   Column                                 Non-Null Count   Dtype  \n",
      "---  ------                                 --------------   -----  \n",
      " 0   battleTime                             757358 non-null  object \n",
      " 1   playertag                              757358 non-null  object \n",
      " 2   event_mode                             757358 non-null  object \n",
      " 3   event_map                              757358 non-null  object \n",
      " 4   battle_type                            757358 non-null  object \n",
      " 5   battle_result                          757358 non-null  object \n",
      " 6   battle_duration                        757358 non-null  Float64\n",
      " 7   battle_trophyChange                    573018 non-null  Float64\n",
      " 8   battle_team1_player1_tag               757358 non-null  object \n",
      " 9   battle_team1_player1_name              757356 non-null  object \n",
      " 10  battle_team1_player1_brawler_id        757358 non-null  Float64\n",
      " 11  battle_team1_player1_brawler_name      757358 non-null  object \n",
      " 12  battle_team1_player1_brawler_power     757358 non-null  Float64\n",
      " 13  battle_team1_player1_brawler_trophies  757358 non-null  Float64\n",
      " 14  battle_team1_player2_tag               757358 non-null  object \n",
      " 15  battle_team1_player2_name              757352 non-null  object \n",
      " 16  battle_team1_player2_brawler_id        757358 non-null  Float64\n",
      " 17  battle_team1_player2_brawler_name      757358 non-null  object \n",
      " 18  battle_team1_player2_brawler_power     757358 non-null  Float64\n",
      " 19  battle_team1_player2_brawler_trophies  757358 non-null  Float64\n",
      " 20  battle_team1_player3_tag               757358 non-null  object \n",
      " 21  battle_team1_player3_name              757355 non-null  object \n",
      " 22  battle_team1_player3_brawler_id        757358 non-null  Float64\n",
      " 23  battle_team1_player3_brawler_name      757358 non-null  object \n",
      " 24  battle_team1_player3_brawler_power     757358 non-null  Float64\n",
      " 25  battle_team1_player3_brawler_trophies  757358 non-null  Float64\n",
      " 26  battle_team2_player1_tag               757358 non-null  object \n",
      " 27  battle_team2_player1_name              757357 non-null  object \n",
      " 28  battle_team2_player1_brawler_id        757358 non-null  Float64\n",
      " 29  battle_team2_player1_brawler_name      757358 non-null  object \n",
      " 30  battle_team2_player1_brawler_power     757358 non-null  Float64\n",
      " 31  battle_team2_player1_brawler_trophies  757358 non-null  Float64\n",
      " 32  battle_team2_player2_tag               757358 non-null  object \n",
      " 33  battle_team2_player2_name              757354 non-null  object \n",
      " 34  battle_team2_player2_brawler_id        757358 non-null  Float64\n",
      " 35  battle_team2_player2_brawler_name      757358 non-null  object \n",
      " 36  battle_team2_player2_brawler_power     757358 non-null  Float64\n",
      " 37  battle_team2_player2_brawler_trophies  757358 non-null  Float64\n",
      " 38  battle_team2_player3_tag               757358 non-null  object \n",
      " 39  battle_team2_player3_name              757356 non-null  object \n",
      " 40  battle_team2_player3_brawler_id        757358 non-null  Float64\n",
      " 41  battle_team2_player3_brawler_name      757358 non-null  object \n",
      " 42  battle_team2_player3_brawler_power     757358 non-null  Float64\n",
      " 43  battle_team2_player3_brawler_trophies  757358 non-null  Float64\n",
      "dtypes: Float64(20), object(24)\n",
      "memory usage: 268.7+ MB\n"
     ]
    }
   ],
   "source": [
    "# set correct dtypes\n",
    "battlelog.info()"
   ]
  },
  {
   "cell_type": "code",
   "execution_count": 50,
   "metadata": {},
   "outputs": [
    {
     "name": "stdout",
     "output_type": "stream",
     "text": [
      "<class 'pandas.core.frame.DataFrame'>\n",
      "RangeIndex: 757358 entries, 0 to 757357\n",
      "Data columns (total 44 columns):\n",
      " #   Column                                 Non-Null Count   Dtype         \n",
      "---  ------                                 --------------   -----         \n",
      " 0   battleTime                             757358 non-null  datetime64[ns]\n",
      " 1   playertag                              757358 non-null  object        \n",
      " 2   event_mode                             757358 non-null  object        \n",
      " 3   event_map                              757358 non-null  object        \n",
      " 4   battle_type                            757358 non-null  object        \n",
      " 5   battle_result                          757358 non-null  object        \n",
      " 6   battle_duration                        757358 non-null  Int16         \n",
      " 7   battle_trophyChange                    573018 non-null  Int8          \n",
      " 8   battle_team1_player1_tag               757358 non-null  object        \n",
      " 9   battle_team1_player1_name              757356 non-null  object        \n",
      " 10  battle_team1_player1_brawler_id        757358 non-null  Int32         \n",
      " 11  battle_team1_player1_brawler_name      757358 non-null  object        \n",
      " 12  battle_team1_player1_brawler_power     757358 non-null  Int8          \n",
      " 13  battle_team1_player1_brawler_trophies  757358 non-null  Int16         \n",
      " 14  battle_team1_player2_tag               757358 non-null  object        \n",
      " 15  battle_team1_player2_name              757352 non-null  object        \n",
      " 16  battle_team1_player2_brawler_id        757358 non-null  Int32         \n",
      " 17  battle_team1_player2_brawler_name      757358 non-null  object        \n",
      " 18  battle_team1_player2_brawler_power     757358 non-null  Int8          \n",
      " 19  battle_team1_player2_brawler_trophies  757358 non-null  Int16         \n",
      " 20  battle_team1_player3_tag               757358 non-null  object        \n",
      " 21  battle_team1_player3_name              757355 non-null  object        \n",
      " 22  battle_team1_player3_brawler_id        757358 non-null  Int32         \n",
      " 23  battle_team1_player3_brawler_name      757358 non-null  object        \n",
      " 24  battle_team1_player3_brawler_power     757358 non-null  Int8          \n",
      " 25  battle_team1_player3_brawler_trophies  757358 non-null  Int16         \n",
      " 26  battle_team2_player1_tag               757358 non-null  object        \n",
      " 27  battle_team2_player1_name              757357 non-null  object        \n",
      " 28  battle_team2_player1_brawler_id        757358 non-null  Int32         \n",
      " 29  battle_team2_player1_brawler_name      757358 non-null  object        \n",
      " 30  battle_team2_player1_brawler_power     757358 non-null  Int8          \n",
      " 31  battle_team2_player1_brawler_trophies  757358 non-null  Int16         \n",
      " 32  battle_team2_player2_tag               757358 non-null  object        \n",
      " 33  battle_team2_player2_name              757354 non-null  object        \n",
      " 34  battle_team2_player2_brawler_id        757358 non-null  Int32         \n",
      " 35  battle_team2_player2_brawler_name      757358 non-null  object        \n",
      " 36  battle_team2_player2_brawler_power     757358 non-null  Int8          \n",
      " 37  battle_team2_player2_brawler_trophies  757358 non-null  Int16         \n",
      " 38  battle_team2_player3_tag               757358 non-null  object        \n",
      " 39  battle_team2_player3_name              757356 non-null  object        \n",
      " 40  battle_team2_player3_brawler_id        757358 non-null  Int32         \n",
      " 41  battle_team2_player3_brawler_name      757358 non-null  object        \n",
      " 42  battle_team2_player3_brawler_power     757358 non-null  Int8          \n",
      " 43  battle_team2_player3_brawler_trophies  757358 non-null  Int16         \n",
      "dtypes: Int16(7), Int32(6), Int8(7), datetime64[ns](1), object(23)\n",
      "memory usage: 185.6+ MB\n"
     ]
    }
   ],
   "source": [
    "# assign correct dtypes\n",
    "battlelog['battleTime'] = pd.to_datetime(battlelog['battleTime'], format='%Y-%m-%d').dt.date.astype('datetime64[ns]')\n",
    "battlelog['battle_duration'] = battlelog['battle_duration'].astype('Int16')\n",
    "battlelog['battle_trophyChange'] = battlelog['battle_trophyChange'].astype('Int8')\n",
    "battlelog['battle_team1_player1_brawler_id'] = battlelog['battle_team1_player1_brawler_id'].astype('Int32')\n",
    "battlelog['battle_team1_player1_brawler_power'] = battlelog['battle_team1_player1_brawler_power'].astype('Int8')\n",
    "battlelog['battle_team1_player1_brawler_trophies'] = battlelog['battle_team1_player1_brawler_trophies'].astype('Int16')\n",
    "battlelog['battle_team1_player2_brawler_id'] = battlelog['battle_team1_player2_brawler_id'].astype('Int32')\n",
    "battlelog['battle_team1_player2_brawler_power'] = battlelog['battle_team1_player2_brawler_power'].astype('Int8')\n",
    "battlelog['battle_team1_player2_brawler_trophies'] = battlelog['battle_team1_player2_brawler_trophies'].astype('Int16')\n",
    "battlelog['battle_team1_player3_brawler_id'] = battlelog['battle_team1_player3_brawler_id'].astype('Int32')\n",
    "battlelog['battle_team1_player3_brawler_power'] = battlelog['battle_team1_player3_brawler_power'].astype('Int8')\n",
    "battlelog['battle_team1_player3_brawler_trophies'] = battlelog['battle_team1_player3_brawler_trophies'].astype('Int16')\n",
    "battlelog['battle_team2_player1_brawler_id'] = battlelog['battle_team2_player1_brawler_id'].astype('Int32')\n",
    "battlelog['battle_team2_player1_brawler_power'] = battlelog['battle_team2_player1_brawler_power'].astype('Int8')\n",
    "battlelog['battle_team2_player1_brawler_trophies'] = battlelog['battle_team2_player1_brawler_trophies'].astype('Int16')\n",
    "battlelog['battle_team2_player2_brawler_id'] = battlelog['battle_team2_player2_brawler_id'].astype('Int32')\n",
    "battlelog['battle_team2_player2_brawler_power'] = battlelog['battle_team2_player2_brawler_power'].astype('Int8')\n",
    "battlelog['battle_team2_player2_brawler_trophies'] = battlelog['battle_team2_player2_brawler_trophies'].astype('Int16')\n",
    "battlelog['battle_team2_player3_brawler_id'] = battlelog['battle_team2_player3_brawler_id'].astype('Int32')\n",
    "battlelog['battle_team2_player3_brawler_power'] = battlelog['battle_team2_player3_brawler_power'].astype('Int8')\n",
    "battlelog['battle_team2_player3_brawler_trophies'] = battlelog['battle_team2_player3_brawler_trophies'].astype('Int16')\n",
    "\n",
    "battlelog.info()"
   ]
  },
  {
   "cell_type": "code",
   "execution_count": 51,
   "metadata": {},
   "outputs": [
    {
     "name": "stdout",
     "output_type": "stream",
     "text": [
      "<class 'pandas.core.frame.DataFrame'>\n",
      "RangeIndex: 757358 entries, 0 to 757357\n",
      "Data columns (total 44 columns):\n",
      " #   Column                                 Non-Null Count   Dtype         \n",
      "---  ------                                 --------------   -----         \n",
      " 0   battleTime                             757358 non-null  datetime64[ns]\n",
      " 1   playertag                              757358 non-null  object        \n",
      " 2   event_mode                             757358 non-null  category      \n",
      " 3   event_map                              757358 non-null  category      \n",
      " 4   battle_type                            757358 non-null  category      \n",
      " 5   battle_result                          757358 non-null  category      \n",
      " 6   battle_duration                        757358 non-null  Int16         \n",
      " 7   battle_trophyChange                    573018 non-null  Int8          \n",
      " 8   battle_team1_player1_tag               757358 non-null  object        \n",
      " 9   battle_team1_player1_name              757356 non-null  object        \n",
      " 10  battle_team1_player1_brawler_id        757358 non-null  Int32         \n",
      " 11  battle_team1_player1_brawler_name      757358 non-null  category      \n",
      " 12  battle_team1_player1_brawler_power     757358 non-null  Int8          \n",
      " 13  battle_team1_player1_brawler_trophies  757358 non-null  Int16         \n",
      " 14  battle_team1_player2_tag               757358 non-null  object        \n",
      " 15  battle_team1_player2_name              757352 non-null  object        \n",
      " 16  battle_team1_player2_brawler_id        757358 non-null  Int32         \n",
      " 17  battle_team1_player2_brawler_name      757358 non-null  category      \n",
      " 18  battle_team1_player2_brawler_power     757358 non-null  Int8          \n",
      " 19  battle_team1_player2_brawler_trophies  757358 non-null  Int16         \n",
      " 20  battle_team1_player3_tag               757358 non-null  object        \n",
      " 21  battle_team1_player3_name              757355 non-null  object        \n",
      " 22  battle_team1_player3_brawler_id        757358 non-null  Int32         \n",
      " 23  battle_team1_player3_brawler_name      757358 non-null  category      \n",
      " 24  battle_team1_player3_brawler_power     757358 non-null  Int8          \n",
      " 25  battle_team1_player3_brawler_trophies  757358 non-null  Int16         \n",
      " 26  battle_team2_player1_tag               757358 non-null  object        \n",
      " 27  battle_team2_player1_name              757357 non-null  object        \n",
      " 28  battle_team2_player1_brawler_id        757358 non-null  Int32         \n",
      " 29  battle_team2_player1_brawler_name      757358 non-null  category      \n",
      " 30  battle_team2_player1_brawler_power     757358 non-null  Int8          \n",
      " 31  battle_team2_player1_brawler_trophies  757358 non-null  Int16         \n",
      " 32  battle_team2_player2_tag               757358 non-null  object        \n",
      " 33  battle_team2_player2_name              757354 non-null  object        \n",
      " 34  battle_team2_player2_brawler_id        757358 non-null  Int32         \n",
      " 35  battle_team2_player2_brawler_name      757358 non-null  category      \n",
      " 36  battle_team2_player2_brawler_power     757358 non-null  Int8          \n",
      " 37  battle_team2_player2_brawler_trophies  757358 non-null  Int16         \n",
      " 38  battle_team2_player3_tag               757358 non-null  object        \n",
      " 39  battle_team2_player3_name              757356 non-null  object        \n",
      " 40  battle_team2_player3_brawler_id        757358 non-null  Int32         \n",
      " 41  battle_team2_player3_brawler_name      757358 non-null  category      \n",
      " 42  battle_team2_player3_brawler_power     757358 non-null  Int8          \n",
      " 43  battle_team2_player3_brawler_trophies  757358 non-null  Int16         \n",
      "dtypes: Int16(7), Int32(6), Int8(7), category(10), datetime64[ns](1), object(13)\n",
      "memory usage: 135.1+ MB\n"
     ]
    }
   ],
   "source": [
    "# assign category dtypes\n",
    "battlelog['battle_team1_player1_brawler_name'] = battlelog['battle_team1_player1_brawler_name'].astype('category')\n",
    "battlelog['battle_team1_player2_brawler_name'] = battlelog['battle_team1_player2_brawler_name'].astype('category')\n",
    "battlelog['battle_team1_player3_brawler_name'] = battlelog['battle_team1_player3_brawler_name'].astype('category')\n",
    "battlelog['battle_team2_player1_brawler_name'] = battlelog['battle_team2_player1_brawler_name'].astype('category')\n",
    "battlelog['battle_team2_player2_brawler_name'] = battlelog['battle_team2_player2_brawler_name'].astype('category')\n",
    "battlelog['battle_team2_player3_brawler_name'] = battlelog['battle_team2_player3_brawler_name'].astype('category')\n",
    "battlelog['event_mode'] = battlelog['event_mode'].astype('category')\n",
    "battlelog['event_map'] = battlelog['event_map'].astype('category')\n",
    "battlelog['battle_type'] = battlelog['battle_type'].astype('category')\n",
    "battlelog['battle_result'] = battlelog['battle_result'].astype('category')\n",
    "\n",
    "battlelog.info()"
   ]
  },
  {
   "cell_type": "code",
   "execution_count": 52,
   "metadata": {},
   "outputs": [],
   "source": [
    "# export dataset teams completo mas histórico\n",
    "battlelog.to_parquet('datasets/teams/battlelog_teams.parquet', index=False, engine='fastparquet', compression='gzip')\n",
    "\n",
    "# Comprimir el archivo parquet\n",
    "# with zipfile.ZipFile('datasets/teams/battlelog_teams.zip', 'w') as zip_file:\n",
    "#     zip_file.write('datasets/teams/battlelog_teams.parquet', arcname='battlelog_teams.parquet',compress_type=zipfile.ZIP_BZIP2)\n",
    "\n",
    "# os.remove('datasets/teams/battlelog_teams.parquet')"
   ]
  },
  {
   "cell_type": "code",
   "execution_count": 53,
   "metadata": {},
   "outputs": [],
   "source": [
    "maplist = battlelog[['event_mode','event_map']].drop_duplicates()\n",
    "\n",
    "maplist.to_parquet('datasets/maps/maplist.parquet', index=False)"
   ]
  }
 ],
 "metadata": {
  "kernelspec": {
   "display_name": "Python 3",
   "language": "python",
   "name": "python3"
  },
  "language_info": {
   "codemirror_mode": {
    "name": "ipython",
    "version": 3
   },
   "file_extension": ".py",
   "mimetype": "text/x-python",
   "name": "python",
   "nbconvert_exporter": "python",
   "pygments_lexer": "ipython3",
   "version": "3.11.1"
  },
  "orig_nbformat": 4,
  "vscode": {
   "interpreter": {
    "hash": "4b0513afd20a5cc577fca9da950d42d1e3c742e55e08a19f57b01f1278df70cd"
   }
  }
 },
 "nbformat": 4,
 "nbformat_minor": 2
}
